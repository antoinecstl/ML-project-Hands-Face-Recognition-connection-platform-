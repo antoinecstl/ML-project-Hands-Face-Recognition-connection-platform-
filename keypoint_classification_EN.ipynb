{
 "nbformat": 4,
 "nbformat_minor": 0,
 "metadata": {
  "kernelspec": {
   "display_name": "Python 3",
   "language": "python",
   "name": "python3"
  },
  "language_info": {
   "codemirror_mode": {
    "name": "ipython",
    "version": 3
   },
   "file_extension": ".py",
   "mimetype": "text/x-python",
   "name": "python",
   "nbconvert_exporter": "python",
   "pygments_lexer": "ipython3",
   "version": "3.8.5"
  },
  "colab": {
   "name": "keypoint_classification_EN.ipynb",
   "provenance": [],
   "collapsed_sections": [],
   "toc_visible": true
  },
  "accelerator": "GPU"
 },
 "cells": [
  {
   "cell_type": "code",
   "metadata": {
    "id": "igMyGnjE9hEp",
    "ExecuteTime": {
     "end_time": "2024-05-12T17:47:36.688540600Z",
     "start_time": "2024-05-12T17:47:27.011485800Z"
    }
   },
   "source": [
    "import csv\n",
    "\n",
    "import numpy as np\n",
    "import tensorflow as tf\n",
    "from sklearn.model_selection import train_test_split\n",
    "\n",
    "RANDOM_SEED = 42"
   ],
   "execution_count": 1,
   "outputs": [
    {
     "name": "stdout",
     "output_type": "stream",
     "text": [
      "WARNING:tensorflow:From C:\\Users\\antoi\\AppData\\Local\\Programs\\Python\\Python310\\lib\\site-packages\\keras\\src\\losses.py:2976: The name tf.losses.sparse_softmax_cross_entropy is deprecated. Please use tf.compat.v1.losses.sparse_softmax_cross_entropy instead.\n",
      "\n"
     ]
    }
   ]
  },
  {
   "cell_type": "markdown",
   "metadata": {
    "id": "t2HDvhIu9hEr"
   },
   "source": [
    "# Specify each path"
   ]
  },
  {
   "cell_type": "code",
   "metadata": {
    "id": "9NvZP2Zn9hEy",
    "ExecuteTime": {
     "end_time": "2024-05-12T17:47:36.704513700Z",
     "start_time": "2024-05-12T17:47:36.695982400Z"
    }
   },
   "source": [
    "dataset = 'model/keypoint_classifier/keypoint.csv'\n",
    "model_save_path = 'model/keypoint_classifier/keypoint_classifier.hdf5'\n",
    "tflite_save_path = 'model/keypoint_classifier/keypoint_classifier.tflite'"
   ],
   "execution_count": 2,
   "outputs": []
  },
  {
   "cell_type": "markdown",
   "metadata": {
    "id": "s5oMH7x19hEz"
   },
   "source": [
    "# Set number of classes"
   ]
  },
  {
   "cell_type": "code",
   "metadata": {
    "id": "du4kodXL9hEz",
    "ExecuteTime": {
     "end_time": "2024-05-12T17:47:36.720234200Z",
     "start_time": "2024-05-12T17:47:36.704513700Z"
    }
   },
   "source": [
    "NUM_CLASSES = 6"
   ],
   "execution_count": 3,
   "outputs": []
  },
  {
   "cell_type": "markdown",
   "metadata": {
    "id": "XjnL0uso9hEz"
   },
   "source": [
    "# Dataset reading"
   ]
  },
  {
   "cell_type": "code",
   "metadata": {
    "id": "QT5ZqtEz9hE0",
    "ExecuteTime": {
     "end_time": "2024-05-12T17:47:36.876960600Z",
     "start_time": "2024-05-12T17:47:36.720234200Z"
    }
   },
   "source": [
    "X_dataset = np.loadtxt(dataset, delimiter=',', dtype='float32', usecols=list(range(1, (21 * 2) + 1)))"
   ],
   "execution_count": 4,
   "outputs": []
  },
  {
   "cell_type": "code",
   "metadata": {
    "id": "QmoKFsp49hE0",
    "ExecuteTime": {
     "end_time": "2024-05-12T17:47:36.939948400Z",
     "start_time": "2024-05-12T17:47:36.860945100Z"
    }
   },
   "source": [
    "y_dataset = np.loadtxt(dataset, delimiter=',', dtype='int32', usecols=(0))"
   ],
   "execution_count": 5,
   "outputs": []
  },
  {
   "cell_type": "code",
   "metadata": {
    "id": "xQU7JTZ_9hE0",
    "ExecuteTime": {
     "end_time": "2024-05-12T17:47:36.939948400Z",
     "start_time": "2024-05-12T17:47:36.924153100Z"
    }
   },
   "source": [
    "X_train, X_test, y_train, y_test = train_test_split(X_dataset, y_dataset, train_size=0.75, random_state=RANDOM_SEED)"
   ],
   "execution_count": 6,
   "outputs": []
  },
  {
   "cell_type": "markdown",
   "metadata": {
    "id": "mxK_lETT9hE0"
   },
   "source": [
    "# Model building"
   ]
  },
  {
   "cell_type": "code",
   "metadata": {
    "id": "vHBmUf1t9hE1",
    "ExecuteTime": {
     "end_time": "2024-05-12T17:47:37.444249100Z",
     "start_time": "2024-05-12T17:47:36.939948400Z"
    }
   },
   "source": [
    "model = tf.keras.models.Sequential([\n",
    "    tf.keras.layers.Input((21 * 2, )),\n",
    "    tf.keras.layers.Dropout(0.2),\n",
    "    tf.keras.layers.Dense(20, activation='relu'),\n",
    "    tf.keras.layers.Dropout(0.4),\n",
    "    tf.keras.layers.Dense(10, activation='relu'),\n",
    "    tf.keras.layers.Dense(NUM_CLASSES, activation='softmax')\n",
    "])"
   ],
   "execution_count": 7,
   "outputs": [
    {
     "name": "stdout",
     "output_type": "stream",
     "text": [
      "WARNING:tensorflow:From C:\\Users\\antoi\\AppData\\Local\\Programs\\Python\\Python310\\lib\\site-packages\\keras\\src\\backend.py:1398: The name tf.executing_eagerly_outside_functions is deprecated. Please use tf.compat.v1.executing_eagerly_outside_functions instead.\n",
      "\n"
     ]
    }
   ]
  },
  {
   "cell_type": "code",
   "metadata": {
    "id": "ypqky9tc9hE1",
    "colab": {
     "base_uri": "https://localhost:8080/"
    },
    "outputId": "5db082bb-30e3-4110-bf63-a1ee777ecd46",
    "ExecuteTime": {
     "end_time": "2024-05-12T17:47:37.490977500Z",
     "start_time": "2024-05-12T17:47:37.444249100Z"
    }
   },
   "source": [
    "model.summary()  # tf.keras.utils.plot_model(model, show_shapes=True)"
   ],
   "execution_count": 8,
   "outputs": [
    {
     "name": "stdout",
     "output_type": "stream",
     "text": [
      "Model: \"sequential\"\n",
      "_________________________________________________________________\n",
      " Layer (type)                Output Shape              Param #   \n",
      "=================================================================\n",
      " dropout (Dropout)           (None, 42)                0         \n",
      "                                                                 \n",
      " dense (Dense)               (None, 20)                860       \n",
      "                                                                 \n",
      " dropout_1 (Dropout)         (None, 20)                0         \n",
      "                                                                 \n",
      " dense_1 (Dense)             (None, 10)                210       \n",
      "                                                                 \n",
      " dense_2 (Dense)             (None, 6)                 66        \n",
      "                                                                 \n",
      "=================================================================\n",
      "Total params: 1136 (4.44 KB)\n",
      "Trainable params: 1136 (4.44 KB)\n",
      "Non-trainable params: 0 (0.00 Byte)\n",
      "_________________________________________________________________\n"
     ]
    }
   ]
  },
  {
   "cell_type": "code",
   "metadata": {
    "id": "MbMjOflQ9hE1",
    "ExecuteTime": {
     "end_time": "2024-05-12T17:47:37.506620500Z",
     "start_time": "2024-05-12T17:47:37.490977500Z"
    }
   },
   "source": [
    "# Model checkpoint callback\n",
    "cp_callback = tf.keras.callbacks.ModelCheckpoint(\n",
    "    model_save_path, verbose=1, save_weights_only=False)\n",
    "# Callback for early stopping\n",
    "es_callback = tf.keras.callbacks.EarlyStopping(patience=20, verbose=1)"
   ],
   "execution_count": 9,
   "outputs": []
  },
  {
   "cell_type": "code",
   "metadata": {
    "id": "c3Dac0M_9hE2",
    "ExecuteTime": {
     "end_time": "2024-05-12T17:47:37.629823900Z",
     "start_time": "2024-05-12T17:47:37.506620500Z"
    }
   },
   "source": [
    "# Model compilation\n",
    "model.compile(\n",
    "    optimizer='adam',\n",
    "    loss='sparse_categorical_crossentropy',\n",
    "    metrics=['accuracy']\n",
    ")"
   ],
   "execution_count": 10,
   "outputs": [
    {
     "name": "stdout",
     "output_type": "stream",
     "text": [
      "WARNING:tensorflow:From C:\\Users\\antoi\\AppData\\Local\\Programs\\Python\\Python310\\lib\\site-packages\\keras\\src\\optimizers\\__init__.py:309: The name tf.train.Optimizer is deprecated. Please use tf.compat.v1.train.Optimizer instead.\n",
      "\n"
     ]
    }
   ]
  },
  {
   "cell_type": "markdown",
   "metadata": {
    "id": "7XI0j1Iu9hE2"
   },
   "source": [
    "# Model training"
   ]
  },
  {
   "cell_type": "code",
   "metadata": {
    "scrolled": true,
    "id": "WirBl-JE9hE3",
    "colab": {
     "base_uri": "https://localhost:8080/"
    },
    "outputId": "71b30ca2-8294-4d9d-8aa2-800d90d399de",
    "ExecuteTime": {
     "end_time": "2024-05-12T17:48:08.563737900Z",
     "start_time": "2024-05-12T17:47:37.616304100Z"
    }
   },
   "source": [
    "model.fit(\n",
    "    X_train,\n",
    "    y_train,\n",
    "    epochs=1000,\n",
    "    batch_size=128,\n",
    "    validation_data=(X_test, y_test),\n",
    "    callbacks=[cp_callback, es_callback]\n",
    ")"
   ],
   "execution_count": 11,
   "outputs": [
    {
     "name": "stdout",
     "output_type": "stream",
     "text": [
      "Epoch 1/1000\n",
      "WARNING:tensorflow:From C:\\Users\\antoi\\AppData\\Local\\Programs\\Python\\Python310\\lib\\site-packages\\keras\\src\\utils\\tf_utils.py:492: The name tf.ragged.RaggedTensorValue is deprecated. Please use tf.compat.v1.ragged.RaggedTensorValue instead.\n",
      "\n",
      "WARNING:tensorflow:From C:\\Users\\antoi\\AppData\\Local\\Programs\\Python\\Python310\\lib\\site-packages\\keras\\src\\engine\\base_layer_utils.py:384: The name tf.executing_eagerly_outside_functions is deprecated. Please use tf.compat.v1.executing_eagerly_outside_functions instead.\n",
      "\n",
      "16/21 [=====================>........] - ETA: 0s - loss: 1.8087 - accuracy: 0.1802 \n",
      "Epoch 1: saving model to model/keypoint_classifier\\keypoint_classifier.hdf5\n",
      "21/21 [==============================] - 2s 32ms/step - loss: 1.8050 - accuracy: 0.1771 - val_loss: 1.7790 - val_accuracy: 0.1895\n",
      "Epoch 2/1000\n",
      "14/21 [===================>..........] - ETA: 0s - loss: 1.7925 - accuracy: 0.1858"
     ]
    },
    {
     "name": "stderr",
     "output_type": "stream",
     "text": [
      "C:\\Users\\antoi\\AppData\\Local\\Programs\\Python\\Python310\\lib\\site-packages\\keras\\src\\engine\\training.py:3103: UserWarning: You are saving your model as an HDF5 file via `model.save()`. This file format is considered legacy. We recommend using instead the native Keras format, e.g. `model.save('my_model.keras')`.\n",
      "  saving_api.save_model(\n"
     ]
    },
    {
     "name": "stdout",
     "output_type": "stream",
     "text": [
      "\n",
      "Epoch 2: saving model to model/keypoint_classifier\\keypoint_classifier.hdf5\n",
      "21/21 [==============================] - 0s 10ms/step - loss: 1.7880 - accuracy: 0.1894 - val_loss: 1.7645 - val_accuracy: 0.1460\n",
      "Epoch 3/1000\n",
      " 1/21 [>.............................] - ETA: 0s - loss: 1.8260 - accuracy: 0.1562\n",
      "Epoch 3: saving model to model/keypoint_classifier\\keypoint_classifier.hdf5\n",
      "21/21 [==============================] - 0s 8ms/step - loss: 1.7722 - accuracy: 0.1894 - val_loss: 1.7472 - val_accuracy: 0.1728\n",
      "Epoch 4/1000\n",
      " 1/21 [>.............................] - ETA: 0s - loss: 1.7699 - accuracy: 0.2344\n",
      "Epoch 4: saving model to model/keypoint_classifier\\keypoint_classifier.hdf5\n",
      "21/21 [==============================] - 0s 7ms/step - loss: 1.7502 - accuracy: 0.2050 - val_loss: 1.7249 - val_accuracy: 0.1906\n",
      "Epoch 5/1000\n",
      "15/21 [====================>.........] - ETA: 0s - loss: 1.7373 - accuracy: 0.2193\n",
      "Epoch 5: saving model to model/keypoint_classifier\\keypoint_classifier.hdf5\n",
      "21/21 [==============================] - 0s 8ms/step - loss: 1.7388 - accuracy: 0.2139 - val_loss: 1.7015 - val_accuracy: 0.2843\n",
      "Epoch 6/1000\n",
      " 1/21 [>.............................] - ETA: 0s - loss: 1.7359 - accuracy: 0.1797\n",
      "Epoch 6: saving model to model/keypoint_classifier\\keypoint_classifier.hdf5\n",
      "21/21 [==============================] - 0s 6ms/step - loss: 1.7238 - accuracy: 0.2321 - val_loss: 1.6806 - val_accuracy: 0.2809\n",
      "Epoch 7/1000\n",
      " 1/21 [>.............................] - ETA: 0s - loss: 1.7285 - accuracy: 0.2109\n",
      "Epoch 7: saving model to model/keypoint_classifier\\keypoint_classifier.hdf5\n",
      "21/21 [==============================] - 0s 7ms/step - loss: 1.7067 - accuracy: 0.2359 - val_loss: 1.6550 - val_accuracy: 0.2731\n",
      "Epoch 8/1000\n",
      "20/21 [===========================>..] - ETA: 0s - loss: 1.6827 - accuracy: 0.2531\n",
      "Epoch 8: saving model to model/keypoint_classifier\\keypoint_classifier.hdf5\n",
      "21/21 [==============================] - 0s 9ms/step - loss: 1.6822 - accuracy: 0.2533 - val_loss: 1.6216 - val_accuracy: 0.3055\n",
      "Epoch 9/1000\n",
      " 1/21 [>.............................] - ETA: 0s - loss: 1.6635 - accuracy: 0.2500\n",
      "Epoch 9: saving model to model/keypoint_classifier\\keypoint_classifier.hdf5\n",
      "21/21 [==============================] - 0s 9ms/step - loss: 1.6552 - accuracy: 0.2686 - val_loss: 1.5810 - val_accuracy: 0.3512\n",
      "Epoch 10/1000\n",
      " 1/21 [>.............................] - ETA: 0s - loss: 1.6169 - accuracy: 0.2812\n",
      "Epoch 10: saving model to model/keypoint_classifier\\keypoint_classifier.hdf5\n",
      "21/21 [==============================] - 0s 5ms/step - loss: 1.6373 - accuracy: 0.2719 - val_loss: 1.5476 - val_accuracy: 0.3757\n",
      "Epoch 11/1000\n",
      " 1/21 [>.............................] - ETA: 0s - loss: 1.5227 - accuracy: 0.4141\n",
      "Epoch 11: saving model to model/keypoint_classifier\\keypoint_classifier.hdf5\n",
      "21/21 [==============================] - 0s 6ms/step - loss: 1.6094 - accuracy: 0.2917 - val_loss: 1.5094 - val_accuracy: 0.3913\n",
      "Epoch 12/1000\n",
      " 1/21 [>.............................] - ETA: 0s - loss: 1.5319 - accuracy: 0.3594\n",
      "Epoch 12: saving model to model/keypoint_classifier\\keypoint_classifier.hdf5\n",
      "21/21 [==============================] - 0s 6ms/step - loss: 1.5930 - accuracy: 0.2932 - val_loss: 1.4750 - val_accuracy: 0.4158\n",
      "Epoch 13/1000\n",
      "17/21 [=======================>......] - ETA: 0s - loss: 1.5760 - accuracy: 0.2932\n",
      "Epoch 13: saving model to model/keypoint_classifier\\keypoint_classifier.hdf5\n",
      "21/21 [==============================] - 0s 9ms/step - loss: 1.5711 - accuracy: 0.3039 - val_loss: 1.4427 - val_accuracy: 0.4682\n",
      "Epoch 14/1000\n",
      "15/21 [====================>.........] - ETA: 0s - loss: 1.5372 - accuracy: 0.3167\n",
      "Epoch 14: saving model to model/keypoint_classifier\\keypoint_classifier.hdf5\n",
      "21/21 [==============================] - 0s 9ms/step - loss: 1.5369 - accuracy: 0.3110 - val_loss: 1.4057 - val_accuracy: 0.4849\n",
      "Epoch 15/1000\n",
      " 1/21 [>.............................] - ETA: 0s - loss: 1.5012 - accuracy: 0.3594\n",
      "Epoch 15: saving model to model/keypoint_classifier\\keypoint_classifier.hdf5\n",
      "21/21 [==============================] - 0s 5ms/step - loss: 1.5224 - accuracy: 0.3285 - val_loss: 1.3723 - val_accuracy: 0.5284\n",
      "Epoch 16/1000\n",
      " 1/21 [>.............................] - ETA: 0s - loss: 1.5098 - accuracy: 0.3125\n",
      "Epoch 16: saving model to model/keypoint_classifier\\keypoint_classifier.hdf5\n",
      "21/21 [==============================] - 0s 6ms/step - loss: 1.4972 - accuracy: 0.3352 - val_loss: 1.3458 - val_accuracy: 0.5273\n",
      "Epoch 17/1000\n",
      " 1/21 [>.............................] - ETA: 0s - loss: 1.4611 - accuracy: 0.4297\n",
      "Epoch 17: saving model to model/keypoint_classifier\\keypoint_classifier.hdf5\n",
      "21/21 [==============================] - 0s 7ms/step - loss: 1.4737 - accuracy: 0.3557 - val_loss: 1.3162 - val_accuracy: 0.5496\n",
      "Epoch 18/1000\n",
      "21/21 [==============================] - ETA: 0s - loss: 1.4550 - accuracy: 0.3664\n",
      "Epoch 18: saving model to model/keypoint_classifier\\keypoint_classifier.hdf5\n",
      "21/21 [==============================] - 0s 6ms/step - loss: 1.4550 - accuracy: 0.3664 - val_loss: 1.2897 - val_accuracy: 0.5530\n",
      "Epoch 19/1000\n",
      " 1/21 [>.............................] - ETA: 0s - loss: 1.3780 - accuracy: 0.3672\n",
      "Epoch 19: saving model to model/keypoint_classifier\\keypoint_classifier.hdf5\n",
      "21/21 [==============================] - 0s 6ms/step - loss: 1.4390 - accuracy: 0.3687 - val_loss: 1.2662 - val_accuracy: 0.5452\n",
      "Epoch 20/1000\n",
      " 1/21 [>.............................] - ETA: 0s - loss: 1.3890 - accuracy: 0.3984\n",
      "Epoch 20: saving model to model/keypoint_classifier\\keypoint_classifier.hdf5\n",
      "21/21 [==============================] - 0s 7ms/step - loss: 1.4230 - accuracy: 0.3776 - val_loss: 1.2480 - val_accuracy: 0.5663\n",
      "Epoch 21/1000\n",
      "14/21 [===================>..........] - ETA: 0s - loss: 1.4287 - accuracy: 0.3850\n",
      "Epoch 21: saving model to model/keypoint_classifier\\keypoint_classifier.hdf5\n",
      "21/21 [==============================] - 0s 9ms/step - loss: 1.4224 - accuracy: 0.3854 - val_loss: 1.2312 - val_accuracy: 0.5775\n",
      "Epoch 22/1000\n",
      "21/21 [==============================] - ETA: 0s - loss: 1.4148 - accuracy: 0.3795\n",
      "Epoch 22: saving model to model/keypoint_classifier\\keypoint_classifier.hdf5\n",
      "21/21 [==============================] - 0s 8ms/step - loss: 1.4148 - accuracy: 0.3795 - val_loss: 1.2123 - val_accuracy: 0.5886\n",
      "Epoch 23/1000\n",
      "18/21 [========================>.....] - ETA: 0s - loss: 1.3843 - accuracy: 0.4054\n",
      "Epoch 23: saving model to model/keypoint_classifier\\keypoint_classifier.hdf5\n",
      "21/21 [==============================] - 0s 8ms/step - loss: 1.3852 - accuracy: 0.3999 - val_loss: 1.1897 - val_accuracy: 0.5730\n",
      "Epoch 24/1000\n",
      "21/21 [==============================] - ETA: 0s - loss: 1.3634 - accuracy: 0.4211\n",
      "Epoch 24: saving model to model/keypoint_classifier\\keypoint_classifier.hdf5\n",
      "21/21 [==============================] - 0s 6ms/step - loss: 1.3634 - accuracy: 0.4211 - val_loss: 1.1692 - val_accuracy: 0.6132\n",
      "Epoch 25/1000\n",
      " 1/21 [>.............................] - ETA: 0s - loss: 1.4138 - accuracy: 0.3672\n",
      "Epoch 25: saving model to model/keypoint_classifier\\keypoint_classifier.hdf5\n",
      "21/21 [==============================] - 0s 9ms/step - loss: 1.3550 - accuracy: 0.4245 - val_loss: 1.1473 - val_accuracy: 0.6065\n",
      "Epoch 26/1000\n",
      "15/21 [====================>.........] - ETA: 0s - loss: 1.3618 - accuracy: 0.4193\n",
      "Epoch 26: saving model to model/keypoint_classifier\\keypoint_classifier.hdf5\n",
      "21/21 [==============================] - 0s 9ms/step - loss: 1.3527 - accuracy: 0.4204 - val_loss: 1.1284 - val_accuracy: 0.6132\n",
      "Epoch 27/1000\n",
      " 1/21 [>.............................] - ETA: 0s - loss: 1.3126 - accuracy: 0.4297\n",
      "Epoch 27: saving model to model/keypoint_classifier\\keypoint_classifier.hdf5\n",
      "21/21 [==============================] - 0s 7ms/step - loss: 1.3353 - accuracy: 0.4211 - val_loss: 1.1107 - val_accuracy: 0.6243\n",
      "Epoch 28/1000\n",
      " 1/21 [>.............................] - ETA: 0s - loss: 1.3817 - accuracy: 0.4062\n",
      "Epoch 28: saving model to model/keypoint_classifier\\keypoint_classifier.hdf5\n",
      "21/21 [==============================] - 0s 5ms/step - loss: 1.3352 - accuracy: 0.4256 - val_loss: 1.1020 - val_accuracy: 0.6154\n",
      "Epoch 29/1000\n",
      " 1/21 [>.............................] - ETA: 0s - loss: 1.3334 - accuracy: 0.4062\n",
      "Epoch 29: saving model to model/keypoint_classifier\\keypoint_classifier.hdf5\n",
      "21/21 [==============================] - 0s 7ms/step - loss: 1.3231 - accuracy: 0.4315 - val_loss: 1.0886 - val_accuracy: 0.6310\n",
      "Epoch 30/1000\n",
      " 1/21 [>.............................] - ETA: 0s - loss: 1.2216 - accuracy: 0.5078\n",
      "Epoch 30: saving model to model/keypoint_classifier\\keypoint_classifier.hdf5\n",
      "21/21 [==============================] - 0s 7ms/step - loss: 1.2986 - accuracy: 0.4330 - val_loss: 1.0740 - val_accuracy: 0.6254\n",
      "Epoch 31/1000\n",
      " 1/21 [>.............................] - ETA: 0s - loss: 1.3434 - accuracy: 0.4297\n",
      "Epoch 31: saving model to model/keypoint_classifier\\keypoint_classifier.hdf5\n",
      "21/21 [==============================] - 0s 6ms/step - loss: 1.3001 - accuracy: 0.4368 - val_loss: 1.0602 - val_accuracy: 0.6488\n",
      "Epoch 32/1000\n",
      " 1/21 [>.............................] - ETA: 0s - loss: 1.3347 - accuracy: 0.3906\n",
      "Epoch 32: saving model to model/keypoint_classifier\\keypoint_classifier.hdf5\n",
      "21/21 [==============================] - 0s 6ms/step - loss: 1.2846 - accuracy: 0.4446 - val_loss: 1.0368 - val_accuracy: 0.6511\n",
      "Epoch 33/1000\n",
      " 1/21 [>.............................] - ETA: 0s - loss: 1.2917 - accuracy: 0.4766\n",
      "Epoch 33: saving model to model/keypoint_classifier\\keypoint_classifier.hdf5\n",
      "21/21 [==============================] - 0s 9ms/step - loss: 1.2928 - accuracy: 0.4583 - val_loss: 1.0329 - val_accuracy: 0.6577\n",
      "Epoch 34/1000\n",
      "11/21 [==============>...............] - ETA: 0s - loss: 1.2719 - accuracy: 0.4425\n",
      "Epoch 34: saving model to model/keypoint_classifier\\keypoint_classifier.hdf5\n",
      "21/21 [==============================] - 0s 8ms/step - loss: 1.2872 - accuracy: 0.4345 - val_loss: 1.0295 - val_accuracy: 0.6722\n",
      "Epoch 35/1000\n",
      " 1/21 [>.............................] - ETA: 0s - loss: 1.2590 - accuracy: 0.4766\n",
      "Epoch 35: saving model to model/keypoint_classifier\\keypoint_classifier.hdf5\n",
      "21/21 [==============================] - 0s 4ms/step - loss: 1.2771 - accuracy: 0.4490 - val_loss: 1.0217 - val_accuracy: 0.7001\n",
      "Epoch 36/1000\n",
      " 1/21 [>.............................] - ETA: 0s - loss: 1.1507 - accuracy: 0.4922\n",
      "Epoch 36: saving model to model/keypoint_classifier\\keypoint_classifier.hdf5\n",
      "21/21 [==============================] - 0s 4ms/step - loss: 1.2371 - accuracy: 0.4635 - val_loss: 1.0013 - val_accuracy: 0.6722\n",
      "Epoch 37/1000\n",
      " 1/21 [>.............................] - ETA: 0s - loss: 1.2818 - accuracy: 0.4453\n",
      "Epoch 37: saving model to model/keypoint_classifier\\keypoint_classifier.hdf5\n",
      "21/21 [==============================] - 0s 4ms/step - loss: 1.2503 - accuracy: 0.4598 - val_loss: 0.9911 - val_accuracy: 0.6644\n",
      "Epoch 38/1000\n",
      " 1/21 [>.............................] - ETA: 0s - loss: 1.2647 - accuracy: 0.4766\n",
      "Epoch 38: saving model to model/keypoint_classifier\\keypoint_classifier.hdf5\n",
      "21/21 [==============================] - 0s 5ms/step - loss: 1.2451 - accuracy: 0.4591 - val_loss: 0.9860 - val_accuracy: 0.6689\n",
      "Epoch 39/1000\n",
      " 1/21 [>.............................] - ETA: 0s - loss: 1.1983 - accuracy: 0.4844\n",
      "Epoch 39: saving model to model/keypoint_classifier\\keypoint_classifier.hdf5\n",
      "21/21 [==============================] - 0s 6ms/step - loss: 1.2456 - accuracy: 0.4606 - val_loss: 0.9761 - val_accuracy: 0.6901\n",
      "Epoch 40/1000\n",
      " 1/21 [>.............................] - ETA: 0s - loss: 1.2346 - accuracy: 0.5234\n",
      "Epoch 40: saving model to model/keypoint_classifier\\keypoint_classifier.hdf5\n",
      "21/21 [==============================] - 0s 5ms/step - loss: 1.2568 - accuracy: 0.4632 - val_loss: 0.9704 - val_accuracy: 0.6823\n",
      "Epoch 41/1000\n",
      " 1/21 [>.............................] - ETA: 0s - loss: 1.3289 - accuracy: 0.4141\n",
      "Epoch 41: saving model to model/keypoint_classifier\\keypoint_classifier.hdf5\n",
      "21/21 [==============================] - 0s 5ms/step - loss: 1.2261 - accuracy: 0.4695 - val_loss: 0.9574 - val_accuracy: 0.6945\n",
      "Epoch 42/1000\n",
      " 1/21 [>.............................] - ETA: 0s - loss: 1.2343 - accuracy: 0.3438\n",
      "Epoch 42: saving model to model/keypoint_classifier\\keypoint_classifier.hdf5\n",
      "21/21 [==============================] - 0s 4ms/step - loss: 1.2169 - accuracy: 0.4583 - val_loss: 0.9512 - val_accuracy: 0.6990\n",
      "Epoch 43/1000\n",
      " 1/21 [>.............................] - ETA: 0s - loss: 1.2644 - accuracy: 0.5469\n",
      "Epoch 43: saving model to model/keypoint_classifier\\keypoint_classifier.hdf5\n",
      "21/21 [==============================] - 0s 5ms/step - loss: 1.2052 - accuracy: 0.4766 - val_loss: 0.9427 - val_accuracy: 0.6990\n",
      "Epoch 44/1000\n",
      " 1/21 [>.............................] - ETA: 0s - loss: 1.1268 - accuracy: 0.5000\n",
      "Epoch 44: saving model to model/keypoint_classifier\\keypoint_classifier.hdf5\n",
      "21/21 [==============================] - 0s 4ms/step - loss: 1.2069 - accuracy: 0.4792 - val_loss: 0.9346 - val_accuracy: 0.7057\n",
      "Epoch 45/1000\n",
      " 1/21 [>.............................] - ETA: 0s - loss: 1.2417 - accuracy: 0.4141\n",
      "Epoch 45: saving model to model/keypoint_classifier\\keypoint_classifier.hdf5\n",
      "21/21 [==============================] - 0s 3ms/step - loss: 1.2110 - accuracy: 0.4587 - val_loss: 0.9315 - val_accuracy: 0.7191\n",
      "Epoch 46/1000\n",
      " 1/21 [>.............................] - ETA: 0s - loss: 1.2092 - accuracy: 0.5078\n",
      "Epoch 46: saving model to model/keypoint_classifier\\keypoint_classifier.hdf5\n",
      "21/21 [==============================] - 0s 3ms/step - loss: 1.2153 - accuracy: 0.4688 - val_loss: 0.9282 - val_accuracy: 0.6890\n",
      "Epoch 47/1000\n",
      " 1/21 [>.............................] - ETA: 0s - loss: 1.0132 - accuracy: 0.5938\n",
      "Epoch 47: saving model to model/keypoint_classifier\\keypoint_classifier.hdf5\n",
      "21/21 [==============================] - 0s 4ms/step - loss: 1.1898 - accuracy: 0.4892 - val_loss: 0.9275 - val_accuracy: 0.6957\n",
      "Epoch 48/1000\n",
      " 1/21 [>.............................] - ETA: 0s - loss: 1.3061 - accuracy: 0.4609\n",
      "Epoch 48: saving model to model/keypoint_classifier\\keypoint_classifier.hdf5\n",
      "21/21 [==============================] - 0s 5ms/step - loss: 1.2089 - accuracy: 0.4721 - val_loss: 0.9246 - val_accuracy: 0.7135\n",
      "Epoch 49/1000\n",
      " 1/21 [>.............................] - ETA: 0s - loss: 1.2250 - accuracy: 0.4688\n",
      "Epoch 49: saving model to model/keypoint_classifier\\keypoint_classifier.hdf5\n",
      "21/21 [==============================] - 0s 5ms/step - loss: 1.1922 - accuracy: 0.4922 - val_loss: 0.9079 - val_accuracy: 0.7146\n",
      "Epoch 50/1000\n",
      " 1/21 [>.............................] - ETA: 0s - loss: 1.1835 - accuracy: 0.4453\n",
      "Epoch 50: saving model to model/keypoint_classifier\\keypoint_classifier.hdf5\n",
      "21/21 [==============================] - 0s 4ms/step - loss: 1.2160 - accuracy: 0.4762 - val_loss: 0.9094 - val_accuracy: 0.6990\n",
      "Epoch 51/1000\n",
      " 1/21 [>.............................] - ETA: 0s - loss: 1.0764 - accuracy: 0.5234\n",
      "Epoch 51: saving model to model/keypoint_classifier\\keypoint_classifier.hdf5\n",
      "21/21 [==============================] - 0s 4ms/step - loss: 1.1728 - accuracy: 0.4978 - val_loss: 0.9082 - val_accuracy: 0.6968\n",
      "Epoch 52/1000\n",
      " 1/21 [>.............................] - ETA: 0s - loss: 1.2269 - accuracy: 0.4688\n",
      "Epoch 52: saving model to model/keypoint_classifier\\keypoint_classifier.hdf5\n",
      "21/21 [==============================] - 0s 5ms/step - loss: 1.1946 - accuracy: 0.4926 - val_loss: 0.8980 - val_accuracy: 0.7191\n",
      "Epoch 53/1000\n",
      " 1/21 [>.............................] - ETA: 0s - loss: 1.1386 - accuracy: 0.6016\n",
      "Epoch 53: saving model to model/keypoint_classifier\\keypoint_classifier.hdf5\n",
      "21/21 [==============================] - 0s 6ms/step - loss: 1.1978 - accuracy: 0.5063 - val_loss: 0.8964 - val_accuracy: 0.7246\n",
      "Epoch 54/1000\n",
      " 1/21 [>.............................] - ETA: 0s - loss: 1.2098 - accuracy: 0.4844\n",
      "Epoch 54: saving model to model/keypoint_classifier\\keypoint_classifier.hdf5\n",
      "21/21 [==============================] - 0s 5ms/step - loss: 1.1962 - accuracy: 0.4639 - val_loss: 0.8950 - val_accuracy: 0.7258\n",
      "Epoch 55/1000\n",
      " 1/21 [>.............................] - ETA: 0s - loss: 1.3485 - accuracy: 0.3672\n",
      "Epoch 55: saving model to model/keypoint_classifier\\keypoint_classifier.hdf5\n",
      "21/21 [==============================] - 0s 5ms/step - loss: 1.1950 - accuracy: 0.4725 - val_loss: 0.9022 - val_accuracy: 0.7124\n",
      "Epoch 56/1000\n",
      " 1/21 [>.............................] - ETA: 0s - loss: 1.1300 - accuracy: 0.5625\n",
      "Epoch 56: saving model to model/keypoint_classifier\\keypoint_classifier.hdf5\n",
      "21/21 [==============================] - 0s 5ms/step - loss: 1.1665 - accuracy: 0.5000 - val_loss: 0.8880 - val_accuracy: 0.7280\n",
      "Epoch 57/1000\n",
      " 1/21 [>.............................] - ETA: 0s - loss: 1.1133 - accuracy: 0.4766\n",
      "Epoch 57: saving model to model/keypoint_classifier\\keypoint_classifier.hdf5\n",
      "21/21 [==============================] - 0s 5ms/step - loss: 1.1652 - accuracy: 0.4795 - val_loss: 0.8700 - val_accuracy: 0.7313\n",
      "Epoch 58/1000\n",
      " 1/21 [>.............................] - ETA: 0s - loss: 1.1611 - accuracy: 0.4688\n",
      "Epoch 58: saving model to model/keypoint_classifier\\keypoint_classifier.hdf5\n",
      "21/21 [==============================] - 0s 4ms/step - loss: 1.1694 - accuracy: 0.4903 - val_loss: 0.8774 - val_accuracy: 0.7124\n",
      "Epoch 59/1000\n",
      " 1/21 [>.............................] - ETA: 0s - loss: 1.1799 - accuracy: 0.5000\n",
      "Epoch 59: saving model to model/keypoint_classifier\\keypoint_classifier.hdf5\n",
      "21/21 [==============================] - 0s 5ms/step - loss: 1.1618 - accuracy: 0.5030 - val_loss: 0.8723 - val_accuracy: 0.7202\n",
      "Epoch 60/1000\n",
      " 1/21 [>.............................] - ETA: 0s - loss: 1.2557 - accuracy: 0.5156\n",
      "Epoch 60: saving model to model/keypoint_classifier\\keypoint_classifier.hdf5\n",
      "21/21 [==============================] - 0s 4ms/step - loss: 1.1545 - accuracy: 0.4926 - val_loss: 0.8689 - val_accuracy: 0.7358\n",
      "Epoch 61/1000\n",
      " 1/21 [>.............................] - ETA: 0s - loss: 1.0822 - accuracy: 0.5547\n",
      "Epoch 61: saving model to model/keypoint_classifier\\keypoint_classifier.hdf5\n",
      "21/21 [==============================] - 0s 5ms/step - loss: 1.1659 - accuracy: 0.4810 - val_loss: 0.8644 - val_accuracy: 0.7191\n",
      "Epoch 62/1000\n",
      " 1/21 [>.............................] - ETA: 0s - loss: 1.1132 - accuracy: 0.4922\n",
      "Epoch 62: saving model to model/keypoint_classifier\\keypoint_classifier.hdf5\n",
      "21/21 [==============================] - 0s 5ms/step - loss: 1.1232 - accuracy: 0.5134 - val_loss: 0.8527 - val_accuracy: 0.7235\n",
      "Epoch 63/1000\n",
      " 1/21 [>.............................] - ETA: 0s - loss: 1.1005 - accuracy: 0.4766\n",
      "Epoch 63: saving model to model/keypoint_classifier\\keypoint_classifier.hdf5\n",
      "21/21 [==============================] - 0s 6ms/step - loss: 1.1561 - accuracy: 0.4959 - val_loss: 0.8566 - val_accuracy: 0.7202\n",
      "Epoch 64/1000\n",
      " 1/21 [>.............................] - ETA: 0s - loss: 1.2137 - accuracy: 0.4453\n",
      "Epoch 64: saving model to model/keypoint_classifier\\keypoint_classifier.hdf5\n",
      "21/21 [==============================] - 0s 4ms/step - loss: 1.1580 - accuracy: 0.4795 - val_loss: 0.8631 - val_accuracy: 0.7191\n",
      "Epoch 65/1000\n",
      " 1/21 [>.............................] - ETA: 0s - loss: 1.1739 - accuracy: 0.5078\n",
      "Epoch 65: saving model to model/keypoint_classifier\\keypoint_classifier.hdf5\n",
      "21/21 [==============================] - 0s 4ms/step - loss: 1.1359 - accuracy: 0.5097 - val_loss: 0.8513 - val_accuracy: 0.7503\n",
      "Epoch 66/1000\n",
      " 1/21 [>.............................] - ETA: 0s - loss: 1.0919 - accuracy: 0.5000\n",
      "Epoch 66: saving model to model/keypoint_classifier\\keypoint_classifier.hdf5\n",
      "21/21 [==============================] - 0s 4ms/step - loss: 1.1482 - accuracy: 0.5015 - val_loss: 0.8440 - val_accuracy: 0.7458\n",
      "Epoch 67/1000\n",
      " 1/21 [>.............................] - ETA: 0s - loss: 1.1187 - accuracy: 0.5312\n",
      "Epoch 67: saving model to model/keypoint_classifier\\keypoint_classifier.hdf5\n",
      "21/21 [==============================] - 0s 5ms/step - loss: 1.1405 - accuracy: 0.4989 - val_loss: 0.8457 - val_accuracy: 0.7313\n",
      "Epoch 68/1000\n",
      " 1/21 [>.............................] - ETA: 0s - loss: 1.1611 - accuracy: 0.4688\n",
      "Epoch 68: saving model to model/keypoint_classifier\\keypoint_classifier.hdf5\n",
      "21/21 [==============================] - 0s 4ms/step - loss: 1.1476 - accuracy: 0.4978 - val_loss: 0.8445 - val_accuracy: 0.7414\n",
      "Epoch 69/1000\n",
      " 1/21 [>.............................] - ETA: 0s - loss: 1.0956 - accuracy: 0.4844\n",
      "Epoch 69: saving model to model/keypoint_classifier\\keypoint_classifier.hdf5\n",
      "21/21 [==============================] - 0s 6ms/step - loss: 1.1106 - accuracy: 0.5160 - val_loss: 0.8380 - val_accuracy: 0.7625\n",
      "Epoch 70/1000\n",
      " 1/21 [>.............................] - ETA: 0s - loss: 1.1961 - accuracy: 0.5000\n",
      "Epoch 70: saving model to model/keypoint_classifier\\keypoint_classifier.hdf5\n",
      "21/21 [==============================] - 0s 5ms/step - loss: 1.1389 - accuracy: 0.4952 - val_loss: 0.8436 - val_accuracy: 0.7302\n",
      "Epoch 71/1000\n",
      " 1/21 [>.............................] - ETA: 0s - loss: 1.1514 - accuracy: 0.4297\n",
      "Epoch 71: saving model to model/keypoint_classifier\\keypoint_classifier.hdf5\n",
      "21/21 [==============================] - 0s 4ms/step - loss: 1.1485 - accuracy: 0.4940 - val_loss: 0.8386 - val_accuracy: 0.7358\n",
      "Epoch 72/1000\n",
      " 1/21 [>.............................] - ETA: 0s - loss: 1.1466 - accuracy: 0.4766\n",
      "Epoch 72: saving model to model/keypoint_classifier\\keypoint_classifier.hdf5\n",
      "21/21 [==============================] - 0s 5ms/step - loss: 1.1358 - accuracy: 0.5067 - val_loss: 0.8407 - val_accuracy: 0.7324\n",
      "Epoch 73/1000\n",
      " 1/21 [>.............................] - ETA: 0s - loss: 1.1453 - accuracy: 0.4766\n",
      "Epoch 73: saving model to model/keypoint_classifier\\keypoint_classifier.hdf5\n",
      "21/21 [==============================] - 0s 5ms/step - loss: 1.1307 - accuracy: 0.5145 - val_loss: 0.8279 - val_accuracy: 0.7603\n",
      "Epoch 74/1000\n",
      " 1/21 [>.............................] - ETA: 0s - loss: 1.1230 - accuracy: 0.4766\n",
      "Epoch 74: saving model to model/keypoint_classifier\\keypoint_classifier.hdf5\n",
      "21/21 [==============================] - 0s 5ms/step - loss: 1.1380 - accuracy: 0.5007 - val_loss: 0.8380 - val_accuracy: 0.7391\n",
      "Epoch 75/1000\n",
      " 1/21 [>.............................] - ETA: 0s - loss: 1.0184 - accuracy: 0.5625\n",
      "Epoch 75: saving model to model/keypoint_classifier\\keypoint_classifier.hdf5\n",
      "21/21 [==============================] - 0s 6ms/step - loss: 1.0953 - accuracy: 0.5223 - val_loss: 0.8295 - val_accuracy: 0.7313\n",
      "Epoch 76/1000\n",
      " 1/21 [>.............................] - ETA: 0s - loss: 1.0246 - accuracy: 0.5703\n",
      "Epoch 76: saving model to model/keypoint_classifier\\keypoint_classifier.hdf5\n",
      "21/21 [==============================] - 0s 6ms/step - loss: 1.1185 - accuracy: 0.5298 - val_loss: 0.8301 - val_accuracy: 0.7503\n",
      "Epoch 77/1000\n",
      " 1/21 [>.............................] - ETA: 0s - loss: 1.1117 - accuracy: 0.5703\n",
      "Epoch 77: saving model to model/keypoint_classifier\\keypoint_classifier.hdf5\n",
      "21/21 [==============================] - 0s 7ms/step - loss: 1.1202 - accuracy: 0.5257 - val_loss: 0.8276 - val_accuracy: 0.7592\n",
      "Epoch 78/1000\n",
      " 1/21 [>.............................] - ETA: 0s - loss: 1.0321 - accuracy: 0.5625\n",
      "Epoch 78: saving model to model/keypoint_classifier\\keypoint_classifier.hdf5\n",
      "21/21 [==============================] - 0s 5ms/step - loss: 1.1221 - accuracy: 0.5175 - val_loss: 0.8297 - val_accuracy: 0.7447\n",
      "Epoch 79/1000\n",
      " 1/21 [>.............................] - ETA: 0s - loss: 1.0240 - accuracy: 0.5156\n",
      "Epoch 79: saving model to model/keypoint_classifier\\keypoint_classifier.hdf5\n",
      "21/21 [==============================] - 0s 5ms/step - loss: 1.1057 - accuracy: 0.5186 - val_loss: 0.8217 - val_accuracy: 0.7492\n",
      "Epoch 80/1000\n",
      " 1/21 [>.............................] - ETA: 0s - loss: 1.0694 - accuracy: 0.5781\n",
      "Epoch 80: saving model to model/keypoint_classifier\\keypoint_classifier.hdf5\n",
      "21/21 [==============================] - 0s 4ms/step - loss: 1.1003 - accuracy: 0.5290 - val_loss: 0.8159 - val_accuracy: 0.7603\n",
      "Epoch 81/1000\n",
      " 1/21 [>.............................] - ETA: 0s - loss: 1.1425 - accuracy: 0.5391\n",
      "Epoch 81: saving model to model/keypoint_classifier\\keypoint_classifier.hdf5\n",
      "21/21 [==============================] - 0s 5ms/step - loss: 1.1211 - accuracy: 0.5145 - val_loss: 0.8106 - val_accuracy: 0.7603\n",
      "Epoch 82/1000\n",
      " 1/21 [>.............................] - ETA: 0s - loss: 1.1434 - accuracy: 0.5312\n",
      "Epoch 82: saving model to model/keypoint_classifier\\keypoint_classifier.hdf5\n",
      "21/21 [==============================] - 0s 5ms/step - loss: 1.0974 - accuracy: 0.5290 - val_loss: 0.8146 - val_accuracy: 0.7614\n",
      "Epoch 83/1000\n",
      " 1/21 [>.............................] - ETA: 0s - loss: 1.0788 - accuracy: 0.5859\n",
      "Epoch 83: saving model to model/keypoint_classifier\\keypoint_classifier.hdf5\n",
      "21/21 [==============================] - 0s 6ms/step - loss: 1.1005 - accuracy: 0.5167 - val_loss: 0.8110 - val_accuracy: 0.7781\n",
      "Epoch 84/1000\n",
      " 1/21 [>.............................] - ETA: 0s - loss: 1.1784 - accuracy: 0.4609\n",
      "Epoch 84: saving model to model/keypoint_classifier\\keypoint_classifier.hdf5\n",
      "21/21 [==============================] - 0s 6ms/step - loss: 1.0979 - accuracy: 0.5205 - val_loss: 0.8095 - val_accuracy: 0.7659\n",
      "Epoch 85/1000\n",
      " 1/21 [>.............................] - ETA: 0s - loss: 1.1758 - accuracy: 0.5000\n",
      "Epoch 85: saving model to model/keypoint_classifier\\keypoint_classifier.hdf5\n",
      "21/21 [==============================] - 0s 7ms/step - loss: 1.1062 - accuracy: 0.5309 - val_loss: 0.8126 - val_accuracy: 0.7559\n",
      "Epoch 86/1000\n",
      "19/21 [==========================>...] - ETA: 0s - loss: 1.1133 - accuracy: 0.5189\n",
      "Epoch 86: saving model to model/keypoint_classifier\\keypoint_classifier.hdf5\n",
      "21/21 [==============================] - 0s 8ms/step - loss: 1.1134 - accuracy: 0.5193 - val_loss: 0.8128 - val_accuracy: 0.7503\n",
      "Epoch 87/1000\n",
      "16/21 [=====================>........] - ETA: 0s - loss: 1.0952 - accuracy: 0.5317\n",
      "Epoch 87: saving model to model/keypoint_classifier\\keypoint_classifier.hdf5\n",
      "21/21 [==============================] - 0s 7ms/step - loss: 1.0945 - accuracy: 0.5294 - val_loss: 0.8077 - val_accuracy: 0.7503\n",
      "Epoch 88/1000\n",
      " 1/21 [>.............................] - ETA: 0s - loss: 1.0602 - accuracy: 0.5234\n",
      "Epoch 88: saving model to model/keypoint_classifier\\keypoint_classifier.hdf5\n",
      "21/21 [==============================] - 0s 5ms/step - loss: 1.0798 - accuracy: 0.5432 - val_loss: 0.8083 - val_accuracy: 0.7648\n",
      "Epoch 89/1000\n",
      "14/21 [===================>..........] - ETA: 0s - loss: 1.1151 - accuracy: 0.5246\n",
      "Epoch 89: saving model to model/keypoint_classifier\\keypoint_classifier.hdf5\n",
      "21/21 [==============================] - 0s 9ms/step - loss: 1.1028 - accuracy: 0.5212 - val_loss: 0.8078 - val_accuracy: 0.7436\n",
      "Epoch 90/1000\n",
      " 1/21 [>.............................] - ETA: 0s - loss: 1.1401 - accuracy: 0.4844\n",
      "Epoch 90: saving model to model/keypoint_classifier\\keypoint_classifier.hdf5\n",
      "21/21 [==============================] - 0s 5ms/step - loss: 1.1048 - accuracy: 0.4993 - val_loss: 0.8062 - val_accuracy: 0.7592\n",
      "Epoch 91/1000\n",
      " 1/21 [>.............................] - ETA: 0s - loss: 1.1188 - accuracy: 0.5469\n",
      "Epoch 91: saving model to model/keypoint_classifier\\keypoint_classifier.hdf5\n",
      "21/21 [==============================] - 0s 5ms/step - loss: 1.1084 - accuracy: 0.5283 - val_loss: 0.8094 - val_accuracy: 0.7525\n",
      "Epoch 92/1000\n",
      " 1/21 [>.............................] - ETA: 0s - loss: 1.0836 - accuracy: 0.5469\n",
      "Epoch 92: saving model to model/keypoint_classifier\\keypoint_classifier.hdf5\n",
      "21/21 [==============================] - 0s 6ms/step - loss: 1.0941 - accuracy: 0.5286 - val_loss: 0.7996 - val_accuracy: 0.7570\n",
      "Epoch 93/1000\n",
      " 1/21 [>.............................] - ETA: 0s - loss: 1.0343 - accuracy: 0.4922\n",
      "Epoch 93: saving model to model/keypoint_classifier\\keypoint_classifier.hdf5\n",
      "21/21 [==============================] - 0s 5ms/step - loss: 1.0775 - accuracy: 0.5242 - val_loss: 0.8100 - val_accuracy: 0.7637\n",
      "Epoch 94/1000\n",
      " 1/21 [>.............................] - ETA: 0s - loss: 1.0428 - accuracy: 0.5859\n",
      "Epoch 94: saving model to model/keypoint_classifier\\keypoint_classifier.hdf5\n",
      "21/21 [==============================] - 0s 6ms/step - loss: 1.0886 - accuracy: 0.5108 - val_loss: 0.8001 - val_accuracy: 0.7536\n",
      "Epoch 95/1000\n",
      " 1/21 [>.............................] - ETA: 0s - loss: 1.0861 - accuracy: 0.5156\n",
      "Epoch 95: saving model to model/keypoint_classifier\\keypoint_classifier.hdf5\n",
      "21/21 [==============================] - 0s 5ms/step - loss: 1.0932 - accuracy: 0.5149 - val_loss: 0.7966 - val_accuracy: 0.7637\n",
      "Epoch 96/1000\n",
      " 1/21 [>.............................] - ETA: 0s - loss: 1.0687 - accuracy: 0.5625\n",
      "Epoch 96: saving model to model/keypoint_classifier\\keypoint_classifier.hdf5\n",
      "21/21 [==============================] - 0s 5ms/step - loss: 1.0611 - accuracy: 0.5446 - val_loss: 0.7919 - val_accuracy: 0.7570\n",
      "Epoch 97/1000\n",
      " 1/21 [>.............................] - ETA: 0s - loss: 1.1135 - accuracy: 0.4922\n",
      "Epoch 97: saving model to model/keypoint_classifier\\keypoint_classifier.hdf5\n",
      "21/21 [==============================] - 0s 5ms/step - loss: 1.0812 - accuracy: 0.5327 - val_loss: 0.7861 - val_accuracy: 0.7781\n",
      "Epoch 98/1000\n",
      " 1/21 [>.............................] - ETA: 0s - loss: 1.0340 - accuracy: 0.5391\n",
      "Epoch 98: saving model to model/keypoint_classifier\\keypoint_classifier.hdf5\n",
      "21/21 [==============================] - 0s 6ms/step - loss: 1.0702 - accuracy: 0.5335 - val_loss: 0.7882 - val_accuracy: 0.7659\n",
      "Epoch 99/1000\n",
      "21/21 [==============================] - ETA: 0s - loss: 1.0873 - accuracy: 0.5212\n",
      "Epoch 99: saving model to model/keypoint_classifier\\keypoint_classifier.hdf5\n",
      "21/21 [==============================] - 0s 6ms/step - loss: 1.0873 - accuracy: 0.5212 - val_loss: 0.7986 - val_accuracy: 0.7581\n",
      "Epoch 100/1000\n",
      " 1/21 [>.............................] - ETA: 0s - loss: 1.0604 - accuracy: 0.5859\n",
      "Epoch 100: saving model to model/keypoint_classifier\\keypoint_classifier.hdf5\n",
      "21/21 [==============================] - 0s 5ms/step - loss: 1.0592 - accuracy: 0.5283 - val_loss: 0.7967 - val_accuracy: 0.7793\n",
      "Epoch 101/1000\n",
      " 1/21 [>.............................] - ETA: 0s - loss: 1.1107 - accuracy: 0.5781\n",
      "Epoch 101: saving model to model/keypoint_classifier\\keypoint_classifier.hdf5\n",
      "21/21 [==============================] - 0s 5ms/step - loss: 1.0780 - accuracy: 0.5379 - val_loss: 0.7913 - val_accuracy: 0.7804\n",
      "Epoch 102/1000\n",
      " 1/21 [>.............................] - ETA: 0s - loss: 1.0085 - accuracy: 0.5938\n",
      "Epoch 102: saving model to model/keypoint_classifier\\keypoint_classifier.hdf5\n",
      "21/21 [==============================] - 0s 6ms/step - loss: 1.0468 - accuracy: 0.5368 - val_loss: 0.7848 - val_accuracy: 0.7559\n",
      "Epoch 103/1000\n",
      " 1/21 [>.............................] - ETA: 0s - loss: 0.9675 - accuracy: 0.6094\n",
      "Epoch 103: saving model to model/keypoint_classifier\\keypoint_classifier.hdf5\n",
      "21/21 [==============================] - 0s 6ms/step - loss: 1.0876 - accuracy: 0.5156 - val_loss: 0.7876 - val_accuracy: 0.7559\n",
      "Epoch 104/1000\n",
      " 1/21 [>.............................] - ETA: 0s - loss: 1.0109 - accuracy: 0.5938\n",
      "Epoch 104: saving model to model/keypoint_classifier\\keypoint_classifier.hdf5\n",
      "21/21 [==============================] - 0s 5ms/step - loss: 1.0621 - accuracy: 0.5365 - val_loss: 0.7882 - val_accuracy: 0.7681\n",
      "Epoch 105/1000\n",
      " 1/21 [>.............................] - ETA: 0s - loss: 1.1206 - accuracy: 0.4766\n",
      "Epoch 105: saving model to model/keypoint_classifier\\keypoint_classifier.hdf5\n",
      "21/21 [==============================] - 0s 6ms/step - loss: 1.0424 - accuracy: 0.5450 - val_loss: 0.7819 - val_accuracy: 0.7748\n",
      "Epoch 106/1000\n",
      " 1/21 [>.............................] - ETA: 0s - loss: 1.0658 - accuracy: 0.5547\n",
      "Epoch 106: saving model to model/keypoint_classifier\\keypoint_classifier.hdf5\n",
      "21/21 [==============================] - 0s 5ms/step - loss: 1.0385 - accuracy: 0.5484 - val_loss: 0.7715 - val_accuracy: 0.7793\n",
      "Epoch 107/1000\n",
      "15/21 [====================>.........] - ETA: 0s - loss: 1.0574 - accuracy: 0.5359\n",
      "Epoch 107: saving model to model/keypoint_classifier\\keypoint_classifier.hdf5\n",
      "21/21 [==============================] - 0s 9ms/step - loss: 1.0672 - accuracy: 0.5339 - val_loss: 0.7762 - val_accuracy: 0.7815\n",
      "Epoch 108/1000\n",
      "16/21 [=====================>........] - ETA: 0s - loss: 1.0513 - accuracy: 0.5376\n",
      "Epoch 108: saving model to model/keypoint_classifier\\keypoint_classifier.hdf5\n",
      "21/21 [==============================] - 0s 8ms/step - loss: 1.0579 - accuracy: 0.5342 - val_loss: 0.7806 - val_accuracy: 0.7625\n",
      "Epoch 109/1000\n",
      " 1/21 [>.............................] - ETA: 0s - loss: 1.1181 - accuracy: 0.5391\n",
      "Epoch 109: saving model to model/keypoint_classifier\\keypoint_classifier.hdf5\n",
      "21/21 [==============================] - 0s 7ms/step - loss: 1.0652 - accuracy: 0.5298 - val_loss: 0.7823 - val_accuracy: 0.7648\n",
      "Epoch 110/1000\n",
      " 1/21 [>.............................] - ETA: 0s - loss: 1.1813 - accuracy: 0.4922\n",
      "Epoch 110: saving model to model/keypoint_classifier\\keypoint_classifier.hdf5\n",
      "21/21 [==============================] - 0s 6ms/step - loss: 1.0634 - accuracy: 0.5324 - val_loss: 0.7754 - val_accuracy: 0.7781\n",
      "Epoch 111/1000\n",
      " 1/21 [>.............................] - ETA: 0s - loss: 1.1962 - accuracy: 0.5625\n",
      "Epoch 111: saving model to model/keypoint_classifier\\keypoint_classifier.hdf5\n",
      "21/21 [==============================] - 0s 6ms/step - loss: 1.0661 - accuracy: 0.5417 - val_loss: 0.7784 - val_accuracy: 0.7659\n",
      "Epoch 112/1000\n",
      " 1/21 [>.............................] - ETA: 0s - loss: 1.1556 - accuracy: 0.5859\n",
      "Epoch 112: saving model to model/keypoint_classifier\\keypoint_classifier.hdf5\n",
      "21/21 [==============================] - 0s 6ms/step - loss: 1.0639 - accuracy: 0.5461 - val_loss: 0.7828 - val_accuracy: 0.7703\n",
      "Epoch 113/1000\n",
      " 1/21 [>.............................] - ETA: 0s - loss: 1.0631 - accuracy: 0.4922\n",
      "Epoch 113: saving model to model/keypoint_classifier\\keypoint_classifier.hdf5\n",
      "21/21 [==============================] - 0s 5ms/step - loss: 1.0650 - accuracy: 0.5171 - val_loss: 0.7822 - val_accuracy: 0.7681\n",
      "Epoch 114/1000\n",
      " 1/21 [>.............................] - ETA: 0s - loss: 1.1700 - accuracy: 0.5234\n",
      "Epoch 114: saving model to model/keypoint_classifier\\keypoint_classifier.hdf5\n",
      "21/21 [==============================] - 0s 5ms/step - loss: 1.0820 - accuracy: 0.5312 - val_loss: 0.7904 - val_accuracy: 0.7581\n",
      "Epoch 115/1000\n",
      " 1/21 [>.............................] - ETA: 0s - loss: 1.0147 - accuracy: 0.6016\n",
      "Epoch 115: saving model to model/keypoint_classifier\\keypoint_classifier.hdf5\n",
      "21/21 [==============================] - 0s 5ms/step - loss: 1.0538 - accuracy: 0.5450 - val_loss: 0.7810 - val_accuracy: 0.7603\n",
      "Epoch 116/1000\n",
      " 1/21 [>.............................] - ETA: 0s - loss: 1.0477 - accuracy: 0.5547\n",
      "Epoch 116: saving model to model/keypoint_classifier\\keypoint_classifier.hdf5\n",
      "21/21 [==============================] - 0s 6ms/step - loss: 1.0363 - accuracy: 0.5491 - val_loss: 0.7714 - val_accuracy: 0.7737\n",
      "Epoch 117/1000\n",
      " 1/21 [>.............................] - ETA: 0s - loss: 0.9751 - accuracy: 0.5391\n",
      "Epoch 117: saving model to model/keypoint_classifier\\keypoint_classifier.hdf5\n",
      "21/21 [==============================] - 0s 6ms/step - loss: 1.0391 - accuracy: 0.5335 - val_loss: 0.7734 - val_accuracy: 0.7648\n",
      "Epoch 118/1000\n",
      " 1/21 [>.............................] - ETA: 0s - loss: 1.1009 - accuracy: 0.5859\n",
      "Epoch 118: saving model to model/keypoint_classifier\\keypoint_classifier.hdf5\n",
      "21/21 [==============================] - 0s 7ms/step - loss: 1.0712 - accuracy: 0.5339 - val_loss: 0.7688 - val_accuracy: 0.7625\n",
      "Epoch 119/1000\n",
      "15/21 [====================>.........] - ETA: 0s - loss: 1.0678 - accuracy: 0.5266\n",
      "Epoch 119: saving model to model/keypoint_classifier\\keypoint_classifier.hdf5\n",
      "21/21 [==============================] - 0s 9ms/step - loss: 1.0565 - accuracy: 0.5327 - val_loss: 0.7827 - val_accuracy: 0.7559\n",
      "Epoch 120/1000\n",
      " 1/21 [>.............................] - ETA: 0s - loss: 1.1178 - accuracy: 0.5547\n",
      "Epoch 120: saving model to model/keypoint_classifier\\keypoint_classifier.hdf5\n",
      "21/21 [==============================] - 0s 6ms/step - loss: 1.0484 - accuracy: 0.5391 - val_loss: 0.7835 - val_accuracy: 0.7436\n",
      "Epoch 121/1000\n",
      " 1/21 [>.............................] - ETA: 0s - loss: 1.1096 - accuracy: 0.5547\n",
      "Epoch 121: saving model to model/keypoint_classifier\\keypoint_classifier.hdf5\n",
      "21/21 [==============================] - 0s 7ms/step - loss: 1.0410 - accuracy: 0.5484 - val_loss: 0.7727 - val_accuracy: 0.7480\n",
      "Epoch 122/1000\n",
      " 1/21 [>.............................] - ETA: 0s - loss: 0.9985 - accuracy: 0.5234\n",
      "Epoch 122: saving model to model/keypoint_classifier\\keypoint_classifier.hdf5\n",
      "21/21 [==============================] - 0s 6ms/step - loss: 1.0386 - accuracy: 0.5685 - val_loss: 0.7729 - val_accuracy: 0.7603\n",
      "Epoch 123/1000\n",
      "21/21 [==============================] - ETA: 0s - loss: 1.0532 - accuracy: 0.5327\n",
      "Epoch 123: saving model to model/keypoint_classifier\\keypoint_classifier.hdf5\n",
      "21/21 [==============================] - 0s 6ms/step - loss: 1.0532 - accuracy: 0.5327 - val_loss: 0.7713 - val_accuracy: 0.7648\n",
      "Epoch 124/1000\n",
      " 1/21 [>.............................] - ETA: 0s - loss: 1.0955 - accuracy: 0.5781\n",
      "Epoch 124: saving model to model/keypoint_classifier\\keypoint_classifier.hdf5\n",
      "21/21 [==============================] - 0s 6ms/step - loss: 1.0523 - accuracy: 0.5443 - val_loss: 0.7802 - val_accuracy: 0.7692\n",
      "Epoch 125/1000\n",
      " 1/21 [>.............................] - ETA: 0s - loss: 1.0814 - accuracy: 0.5078\n",
      "Epoch 125: saving model to model/keypoint_classifier\\keypoint_classifier.hdf5\n",
      "21/21 [==============================] - 0s 9ms/step - loss: 1.0623 - accuracy: 0.5342 - val_loss: 0.7759 - val_accuracy: 0.7592\n",
      "Epoch 126/1000\n",
      "13/21 [=================>............] - ETA: 0s - loss: 1.0466 - accuracy: 0.5300\n",
      "Epoch 126: saving model to model/keypoint_classifier\\keypoint_classifier.hdf5\n",
      "21/21 [==============================] - 0s 10ms/step - loss: 1.0513 - accuracy: 0.5324 - val_loss: 0.7762 - val_accuracy: 0.7681\n",
      "Epoch 127/1000\n",
      "19/21 [==========================>...] - ETA: 0s - loss: 1.0396 - accuracy: 0.5452\n",
      "Epoch 127: saving model to model/keypoint_classifier\\keypoint_classifier.hdf5\n",
      "21/21 [==============================] - 0s 8ms/step - loss: 1.0365 - accuracy: 0.5487 - val_loss: 0.7763 - val_accuracy: 0.7581\n",
      "Epoch 128/1000\n",
      "21/21 [==============================] - ETA: 0s - loss: 1.0493 - accuracy: 0.5469\n",
      "Epoch 128: saving model to model/keypoint_classifier\\keypoint_classifier.hdf5\n",
      "21/21 [==============================] - 0s 5ms/step - loss: 1.0493 - accuracy: 0.5469 - val_loss: 0.7735 - val_accuracy: 0.7592\n",
      "Epoch 129/1000\n",
      " 1/21 [>.............................] - ETA: 0s - loss: 1.0056 - accuracy: 0.5625\n",
      "Epoch 129: saving model to model/keypoint_classifier\\keypoint_classifier.hdf5\n",
      "21/21 [==============================] - 0s 5ms/step - loss: 1.0296 - accuracy: 0.5432 - val_loss: 0.7688 - val_accuracy: 0.7781\n",
      "Epoch 130/1000\n",
      " 1/21 [>.............................] - ETA: 0s - loss: 0.9562 - accuracy: 0.6484\n",
      "Epoch 130: saving model to model/keypoint_classifier\\keypoint_classifier.hdf5\n",
      "21/21 [==============================] - 0s 6ms/step - loss: 1.0416 - accuracy: 0.5428 - val_loss: 0.7669 - val_accuracy: 0.7703\n",
      "Epoch 131/1000\n",
      "21/21 [==============================] - ETA: 0s - loss: 1.0205 - accuracy: 0.5584\n",
      "Epoch 131: saving model to model/keypoint_classifier\\keypoint_classifier.hdf5\n",
      "21/21 [==============================] - 0s 6ms/step - loss: 1.0205 - accuracy: 0.5584 - val_loss: 0.7669 - val_accuracy: 0.7581\n",
      "Epoch 132/1000\n",
      " 1/21 [>.............................] - ETA: 0s - loss: 0.9786 - accuracy: 0.5234\n",
      "Epoch 132: saving model to model/keypoint_classifier\\keypoint_classifier.hdf5\n",
      "21/21 [==============================] - 0s 6ms/step - loss: 1.0478 - accuracy: 0.5350 - val_loss: 0.7680 - val_accuracy: 0.7659\n",
      "Epoch 133/1000\n",
      " 1/21 [>.............................] - ETA: 0s - loss: 1.1288 - accuracy: 0.4609\n",
      "Epoch 133: saving model to model/keypoint_classifier\\keypoint_classifier.hdf5\n",
      "21/21 [==============================] - 0s 5ms/step - loss: 1.0249 - accuracy: 0.5439 - val_loss: 0.7716 - val_accuracy: 0.7614\n",
      "Epoch 134/1000\n",
      " 1/21 [>.............................] - ETA: 0s - loss: 1.0742 - accuracy: 0.5312\n",
      "Epoch 134: saving model to model/keypoint_classifier\\keypoint_classifier.hdf5\n",
      "21/21 [==============================] - 0s 5ms/step - loss: 1.0620 - accuracy: 0.5413 - val_loss: 0.7671 - val_accuracy: 0.7759\n",
      "Epoch 135/1000\n",
      " 1/21 [>.............................] - ETA: 0s - loss: 0.9731 - accuracy: 0.5938\n",
      "Epoch 135: saving model to model/keypoint_classifier\\keypoint_classifier.hdf5\n",
      "21/21 [==============================] - 0s 6ms/step - loss: 1.0485 - accuracy: 0.5406 - val_loss: 0.7658 - val_accuracy: 0.7648\n",
      "Epoch 136/1000\n",
      "16/21 [=====================>........] - ETA: 0s - loss: 1.0167 - accuracy: 0.5493\n",
      "Epoch 136: saving model to model/keypoint_classifier\\keypoint_classifier.hdf5\n",
      "21/21 [==============================] - 0s 6ms/step - loss: 1.0305 - accuracy: 0.5458 - val_loss: 0.7665 - val_accuracy: 0.7592\n",
      "Epoch 137/1000\n",
      "16/21 [=====================>........] - ETA: 0s - loss: 1.0488 - accuracy: 0.5444\n",
      "Epoch 137: saving model to model/keypoint_classifier\\keypoint_classifier.hdf5\n",
      "21/21 [==============================] - 0s 7ms/step - loss: 1.0407 - accuracy: 0.5461 - val_loss: 0.7678 - val_accuracy: 0.7614\n",
      "Epoch 138/1000\n",
      " 1/21 [>.............................] - ETA: 0s - loss: 0.9624 - accuracy: 0.5625\n",
      "Epoch 138: saving model to model/keypoint_classifier\\keypoint_classifier.hdf5\n",
      "21/21 [==============================] - 0s 5ms/step - loss: 1.0296 - accuracy: 0.5428 - val_loss: 0.7585 - val_accuracy: 0.7737\n",
      "Epoch 139/1000\n",
      " 1/21 [>.............................] - ETA: 0s - loss: 1.1060 - accuracy: 0.4922\n",
      "Epoch 139: saving model to model/keypoint_classifier\\keypoint_classifier.hdf5\n",
      "21/21 [==============================] - 0s 5ms/step - loss: 1.0255 - accuracy: 0.5513 - val_loss: 0.7619 - val_accuracy: 0.7625\n",
      "Epoch 140/1000\n",
      " 1/21 [>.............................] - ETA: 0s - loss: 1.2634 - accuracy: 0.4609\n",
      "Epoch 140: saving model to model/keypoint_classifier\\keypoint_classifier.hdf5\n",
      "21/21 [==============================] - 0s 5ms/step - loss: 1.0373 - accuracy: 0.5361 - val_loss: 0.7637 - val_accuracy: 0.7637\n",
      "Epoch 141/1000\n",
      " 1/21 [>.............................] - ETA: 0s - loss: 0.9610 - accuracy: 0.5547\n",
      "Epoch 141: saving model to model/keypoint_classifier\\keypoint_classifier.hdf5\n",
      "21/21 [==============================] - 0s 5ms/step - loss: 1.0444 - accuracy: 0.5353 - val_loss: 0.7585 - val_accuracy: 0.7637\n",
      "Epoch 142/1000\n",
      " 1/21 [>.............................] - ETA: 0s - loss: 1.0277 - accuracy: 0.5469\n",
      "Epoch 142: saving model to model/keypoint_classifier\\keypoint_classifier.hdf5\n",
      "21/21 [==============================] - 0s 5ms/step - loss: 1.0197 - accuracy: 0.5383 - val_loss: 0.7601 - val_accuracy: 0.7670\n",
      "Epoch 143/1000\n",
      " 1/21 [>.............................] - ETA: 0s - loss: 1.0101 - accuracy: 0.6406\n",
      "Epoch 143: saving model to model/keypoint_classifier\\keypoint_classifier.hdf5\n",
      "21/21 [==============================] - 0s 5ms/step - loss: 1.0052 - accuracy: 0.5610 - val_loss: 0.7522 - val_accuracy: 0.7592\n",
      "Epoch 144/1000\n",
      " 1/21 [>.............................] - ETA: 0s - loss: 1.0979 - accuracy: 0.4844\n",
      "Epoch 144: saving model to model/keypoint_classifier\\keypoint_classifier.hdf5\n",
      "21/21 [==============================] - 0s 5ms/step - loss: 1.0322 - accuracy: 0.5450 - val_loss: 0.7564 - val_accuracy: 0.7525\n",
      "Epoch 145/1000\n",
      " 1/21 [>.............................] - ETA: 0s - loss: 1.1359 - accuracy: 0.5000\n",
      "Epoch 145: saving model to model/keypoint_classifier\\keypoint_classifier.hdf5\n",
      "21/21 [==============================] - 0s 7ms/step - loss: 1.0404 - accuracy: 0.5432 - val_loss: 0.7564 - val_accuracy: 0.7670\n",
      "Epoch 146/1000\n",
      "16/21 [=====================>........] - ETA: 0s - loss: 1.0341 - accuracy: 0.5435\n",
      "Epoch 146: saving model to model/keypoint_classifier\\keypoint_classifier.hdf5\n",
      "21/21 [==============================] - 0s 9ms/step - loss: 1.0397 - accuracy: 0.5409 - val_loss: 0.7545 - val_accuracy: 0.7614\n",
      "Epoch 147/1000\n",
      "15/21 [====================>.........] - ETA: 0s - loss: 1.0400 - accuracy: 0.5474\n",
      "Epoch 147: saving model to model/keypoint_classifier\\keypoint_classifier.hdf5\n",
      "21/21 [==============================] - 0s 9ms/step - loss: 1.0394 - accuracy: 0.5543 - val_loss: 0.7580 - val_accuracy: 0.7592\n",
      "Epoch 148/1000\n",
      " 1/21 [>.............................] - ETA: 0s - loss: 0.9795 - accuracy: 0.5703\n",
      "Epoch 148: saving model to model/keypoint_classifier\\keypoint_classifier.hdf5\n",
      "21/21 [==============================] - 0s 5ms/step - loss: 1.0269 - accuracy: 0.5420 - val_loss: 0.7509 - val_accuracy: 0.7726\n",
      "Epoch 149/1000\n",
      " 1/21 [>.............................] - ETA: 0s - loss: 1.1480 - accuracy: 0.4609\n",
      "Epoch 149: saving model to model/keypoint_classifier\\keypoint_classifier.hdf5\n",
      "21/21 [==============================] - 0s 5ms/step - loss: 1.0119 - accuracy: 0.5439 - val_loss: 0.7545 - val_accuracy: 0.7637\n",
      "Epoch 150/1000\n",
      " 1/21 [>.............................] - ETA: 0s - loss: 1.0239 - accuracy: 0.5703\n",
      "Epoch 150: saving model to model/keypoint_classifier\\keypoint_classifier.hdf5\n",
      "21/21 [==============================] - 0s 4ms/step - loss: 1.0513 - accuracy: 0.5428 - val_loss: 0.7554 - val_accuracy: 0.7670\n",
      "Epoch 151/1000\n",
      " 1/21 [>.............................] - ETA: 0s - loss: 1.1451 - accuracy: 0.4297\n",
      "Epoch 151: saving model to model/keypoint_classifier\\keypoint_classifier.hdf5\n",
      "21/21 [==============================] - 0s 5ms/step - loss: 1.0336 - accuracy: 0.5283 - val_loss: 0.7607 - val_accuracy: 0.7570\n",
      "Epoch 152/1000\n",
      " 1/21 [>.............................] - ETA: 0s - loss: 0.9727 - accuracy: 0.5312\n",
      "Epoch 152: saving model to model/keypoint_classifier\\keypoint_classifier.hdf5\n",
      "21/21 [==============================] - 0s 6ms/step - loss: 1.0385 - accuracy: 0.5294 - val_loss: 0.7649 - val_accuracy: 0.7614\n",
      "Epoch 153/1000\n",
      " 1/21 [>.............................] - ETA: 0s - loss: 1.1303 - accuracy: 0.5078\n",
      "Epoch 153: saving model to model/keypoint_classifier\\keypoint_classifier.hdf5\n",
      "21/21 [==============================] - 0s 6ms/step - loss: 1.0309 - accuracy: 0.5383 - val_loss: 0.7665 - val_accuracy: 0.7525\n",
      "Epoch 154/1000\n",
      "15/21 [====================>.........] - ETA: 0s - loss: 1.0329 - accuracy: 0.5458\n",
      "Epoch 154: saving model to model/keypoint_classifier\\keypoint_classifier.hdf5\n",
      "21/21 [==============================] - 0s 10ms/step - loss: 1.0217 - accuracy: 0.5484 - val_loss: 0.7670 - val_accuracy: 0.7547\n",
      "Epoch 155/1000\n",
      "16/21 [=====================>........] - ETA: 0s - loss: 1.0169 - accuracy: 0.5483\n",
      "Epoch 155: saving model to model/keypoint_classifier\\keypoint_classifier.hdf5\n",
      "21/21 [==============================] - 0s 9ms/step - loss: 1.0149 - accuracy: 0.5547 - val_loss: 0.7644 - val_accuracy: 0.7625\n",
      "Epoch 156/1000\n",
      " 1/21 [>.............................] - ETA: 0s - loss: 1.0426 - accuracy: 0.5625\n",
      "Epoch 156: saving model to model/keypoint_classifier\\keypoint_classifier.hdf5\n",
      "21/21 [==============================] - 0s 6ms/step - loss: 1.0202 - accuracy: 0.5465 - val_loss: 0.7701 - val_accuracy: 0.7525\n",
      "Epoch 157/1000\n",
      " 1/21 [>.............................] - ETA: 0s - loss: 0.9763 - accuracy: 0.5547\n",
      "Epoch 157: saving model to model/keypoint_classifier\\keypoint_classifier.hdf5\n",
      "21/21 [==============================] - 0s 6ms/step - loss: 1.0151 - accuracy: 0.5517 - val_loss: 0.7617 - val_accuracy: 0.7581\n",
      "Epoch 158/1000\n",
      " 1/21 [>.............................] - ETA: 0s - loss: 0.9437 - accuracy: 0.5859\n",
      "Epoch 158: saving model to model/keypoint_classifier\\keypoint_classifier.hdf5\n",
      "21/21 [==============================] - 0s 6ms/step - loss: 1.0090 - accuracy: 0.5685 - val_loss: 0.7519 - val_accuracy: 0.7425\n",
      "Epoch 159/1000\n",
      " 1/21 [>.............................] - ETA: 0s - loss: 1.0713 - accuracy: 0.5938\n",
      "Epoch 159: saving model to model/keypoint_classifier\\keypoint_classifier.hdf5\n",
      "21/21 [==============================] - 0s 5ms/step - loss: 1.0128 - accuracy: 0.5458 - val_loss: 0.7435 - val_accuracy: 0.7570\n",
      "Epoch 160/1000\n",
      " 1/21 [>.............................] - ETA: 0s - loss: 1.0047 - accuracy: 0.6094\n",
      "Epoch 160: saving model to model/keypoint_classifier\\keypoint_classifier.hdf5\n",
      "21/21 [==============================] - 0s 5ms/step - loss: 1.0215 - accuracy: 0.5536 - val_loss: 0.7484 - val_accuracy: 0.7570\n",
      "Epoch 161/1000\n",
      " 1/21 [>.............................] - ETA: 0s - loss: 1.0025 - accuracy: 0.5859\n",
      "Epoch 161: saving model to model/keypoint_classifier\\keypoint_classifier.hdf5\n",
      "21/21 [==============================] - 0s 5ms/step - loss: 1.0202 - accuracy: 0.5499 - val_loss: 0.7490 - val_accuracy: 0.7525\n",
      "Epoch 162/1000\n",
      "17/21 [=======================>......] - ETA: 0s - loss: 1.0156 - accuracy: 0.5593\n",
      "Epoch 162: saving model to model/keypoint_classifier\\keypoint_classifier.hdf5\n",
      "21/21 [==============================] - 0s 9ms/step - loss: 1.0157 - accuracy: 0.5562 - val_loss: 0.7542 - val_accuracy: 0.7559\n",
      "Epoch 163/1000\n",
      " 1/21 [>.............................] - ETA: 0s - loss: 0.9797 - accuracy: 0.5547\n",
      "Epoch 163: saving model to model/keypoint_classifier\\keypoint_classifier.hdf5\n",
      "21/21 [==============================] - 0s 8ms/step - loss: 1.0135 - accuracy: 0.5409 - val_loss: 0.7458 - val_accuracy: 0.7492\n",
      "Epoch 164/1000\n",
      "18/21 [========================>.....] - ETA: 0s - loss: 1.0297 - accuracy: 0.5347\n",
      "Epoch 164: saving model to model/keypoint_classifier\\keypoint_classifier.hdf5\n",
      "21/21 [==============================] - 0s 9ms/step - loss: 1.0278 - accuracy: 0.5387 - val_loss: 0.7542 - val_accuracy: 0.7436\n",
      "Epoch 165/1000\n",
      "19/21 [==========================>...] - ETA: 0s - loss: 1.0431 - accuracy: 0.5399\n",
      "Epoch 165: saving model to model/keypoint_classifier\\keypoint_classifier.hdf5\n",
      "21/21 [==============================] - 0s 6ms/step - loss: 1.0434 - accuracy: 0.5361 - val_loss: 0.7590 - val_accuracy: 0.7536\n",
      "Epoch 166/1000\n",
      " 1/21 [>.............................] - ETA: 0s - loss: 1.0463 - accuracy: 0.5859\n",
      "Epoch 166: saving model to model/keypoint_classifier\\keypoint_classifier.hdf5\n",
      "21/21 [==============================] - 0s 6ms/step - loss: 0.9956 - accuracy: 0.5606 - val_loss: 0.7528 - val_accuracy: 0.7659\n",
      "Epoch 167/1000\n",
      "20/21 [===========================>..] - ETA: 0s - loss: 1.0016 - accuracy: 0.5559\n",
      "Epoch 167: saving model to model/keypoint_classifier\\keypoint_classifier.hdf5\n",
      "21/21 [==============================] - 0s 5ms/step - loss: 1.0016 - accuracy: 0.5543 - val_loss: 0.7451 - val_accuracy: 0.7659\n",
      "Epoch 168/1000\n",
      " 1/21 [>.............................] - ETA: 0s - loss: 1.1158 - accuracy: 0.4844\n",
      "Epoch 168: saving model to model/keypoint_classifier\\keypoint_classifier.hdf5\n",
      "21/21 [==============================] - 0s 6ms/step - loss: 1.0016 - accuracy: 0.5517 - val_loss: 0.7465 - val_accuracy: 0.7581\n",
      "Epoch 169/1000\n",
      " 1/21 [>.............................] - ETA: 0s - loss: 0.8719 - accuracy: 0.6641\n",
      "Epoch 169: saving model to model/keypoint_classifier\\keypoint_classifier.hdf5\n",
      "21/21 [==============================] - 0s 7ms/step - loss: 1.0198 - accuracy: 0.5469 - val_loss: 0.7540 - val_accuracy: 0.7514\n",
      "Epoch 170/1000\n",
      " 1/21 [>.............................] - ETA: 0s - loss: 0.9509 - accuracy: 0.6172\n",
      "Epoch 170: saving model to model/keypoint_classifier\\keypoint_classifier.hdf5\n",
      "21/21 [==============================] - 0s 6ms/step - loss: 1.0033 - accuracy: 0.5558 - val_loss: 0.7452 - val_accuracy: 0.7648\n",
      "Epoch 171/1000\n",
      " 1/21 [>.............................] - ETA: 0s - loss: 1.0137 - accuracy: 0.5547\n",
      "Epoch 171: saving model to model/keypoint_classifier\\keypoint_classifier.hdf5\n",
      "21/21 [==============================] - 0s 6ms/step - loss: 1.0193 - accuracy: 0.5513 - val_loss: 0.7454 - val_accuracy: 0.7648\n",
      "Epoch 172/1000\n",
      " 1/21 [>.............................] - ETA: 0s - loss: 1.0406 - accuracy: 0.6016\n",
      "Epoch 172: saving model to model/keypoint_classifier\\keypoint_classifier.hdf5\n",
      "21/21 [==============================] - 0s 5ms/step - loss: 1.0041 - accuracy: 0.5640 - val_loss: 0.7552 - val_accuracy: 0.7536\n",
      "Epoch 173/1000\n",
      " 1/21 [>.............................] - ETA: 0s - loss: 0.9888 - accuracy: 0.6016\n",
      "Epoch 173: saving model to model/keypoint_classifier\\keypoint_classifier.hdf5\n",
      "21/21 [==============================] - 0s 5ms/step - loss: 0.9871 - accuracy: 0.5603 - val_loss: 0.7463 - val_accuracy: 0.7570\n",
      "Epoch 174/1000\n",
      " 1/21 [>.............................] - ETA: 0s - loss: 1.0214 - accuracy: 0.5000\n",
      "Epoch 174: saving model to model/keypoint_classifier\\keypoint_classifier.hdf5\n",
      "21/21 [==============================] - 0s 5ms/step - loss: 0.9972 - accuracy: 0.5562 - val_loss: 0.7480 - val_accuracy: 0.7391\n",
      "Epoch 175/1000\n",
      " 1/21 [>.............................] - ETA: 0s - loss: 0.9560 - accuracy: 0.5391\n",
      "Epoch 175: saving model to model/keypoint_classifier\\keypoint_classifier.hdf5\n",
      "21/21 [==============================] - 0s 4ms/step - loss: 1.0144 - accuracy: 0.5565 - val_loss: 0.7382 - val_accuracy: 0.7592\n",
      "Epoch 176/1000\n",
      " 1/21 [>.............................] - ETA: 0s - loss: 1.1024 - accuracy: 0.5156\n",
      "Epoch 176: saving model to model/keypoint_classifier\\keypoint_classifier.hdf5\n",
      "21/21 [==============================] - 0s 5ms/step - loss: 1.0079 - accuracy: 0.5569 - val_loss: 0.7362 - val_accuracy: 0.7759\n",
      "Epoch 177/1000\n",
      " 1/21 [>.............................] - ETA: 0s - loss: 1.0055 - accuracy: 0.5625\n",
      "Epoch 177: saving model to model/keypoint_classifier\\keypoint_classifier.hdf5\n",
      "21/21 [==============================] - 0s 4ms/step - loss: 1.0225 - accuracy: 0.5580 - val_loss: 0.7566 - val_accuracy: 0.7525\n",
      "Epoch 178/1000\n",
      " 1/21 [>.............................] - ETA: 0s - loss: 0.9119 - accuracy: 0.6406\n",
      "Epoch 178: saving model to model/keypoint_classifier\\keypoint_classifier.hdf5\n",
      "21/21 [==============================] - 0s 4ms/step - loss: 0.9972 - accuracy: 0.5595 - val_loss: 0.7521 - val_accuracy: 0.7592\n",
      "Epoch 179/1000\n",
      " 1/21 [>.............................] - ETA: 0s - loss: 0.9724 - accuracy: 0.5625\n",
      "Epoch 179: saving model to model/keypoint_classifier\\keypoint_classifier.hdf5\n",
      "21/21 [==============================] - 0s 5ms/step - loss: 1.0166 - accuracy: 0.5536 - val_loss: 0.7501 - val_accuracy: 0.7670\n",
      "Epoch 180/1000\n",
      " 1/21 [>.............................] - ETA: 0s - loss: 0.9853 - accuracy: 0.5234\n",
      "Epoch 180: saving model to model/keypoint_classifier\\keypoint_classifier.hdf5\n",
      "21/21 [==============================] - 0s 5ms/step - loss: 1.0046 - accuracy: 0.5461 - val_loss: 0.7471 - val_accuracy: 0.7625\n",
      "Epoch 181/1000\n",
      " 1/21 [>.............................] - ETA: 0s - loss: 1.0686 - accuracy: 0.5312\n",
      "Epoch 181: saving model to model/keypoint_classifier\\keypoint_classifier.hdf5\n",
      "21/21 [==============================] - 0s 5ms/step - loss: 1.0184 - accuracy: 0.5554 - val_loss: 0.7490 - val_accuracy: 0.7603\n",
      "Epoch 182/1000\n",
      " 1/21 [>.............................] - ETA: 0s - loss: 1.0624 - accuracy: 0.5391\n",
      "Epoch 182: saving model to model/keypoint_classifier\\keypoint_classifier.hdf5\n",
      "21/21 [==============================] - 0s 5ms/step - loss: 1.0029 - accuracy: 0.5551 - val_loss: 0.7536 - val_accuracy: 0.7436\n",
      "Epoch 183/1000\n",
      " 1/21 [>.............................] - ETA: 0s - loss: 0.9930 - accuracy: 0.6016\n",
      "Epoch 183: saving model to model/keypoint_classifier\\keypoint_classifier.hdf5\n",
      "21/21 [==============================] - 0s 5ms/step - loss: 0.9995 - accuracy: 0.5629 - val_loss: 0.7456 - val_accuracy: 0.7514\n",
      "Epoch 184/1000\n",
      " 1/21 [>.............................] - ETA: 0s - loss: 1.0036 - accuracy: 0.4922\n",
      "Epoch 184: saving model to model/keypoint_classifier\\keypoint_classifier.hdf5\n",
      "21/21 [==============================] - 0s 5ms/step - loss: 1.0093 - accuracy: 0.5499 - val_loss: 0.7398 - val_accuracy: 0.7559\n",
      "Epoch 185/1000\n",
      " 1/21 [>.............................] - ETA: 0s - loss: 0.9699 - accuracy: 0.5391\n",
      "Epoch 185: saving model to model/keypoint_classifier\\keypoint_classifier.hdf5\n",
      "21/21 [==============================] - 0s 5ms/step - loss: 1.0170 - accuracy: 0.5536 - val_loss: 0.7487 - val_accuracy: 0.7581\n",
      "Epoch 186/1000\n",
      " 1/21 [>.............................] - ETA: 0s - loss: 1.0908 - accuracy: 0.5078\n",
      "Epoch 186: saving model to model/keypoint_classifier\\keypoint_classifier.hdf5\n",
      "21/21 [==============================] - 0s 6ms/step - loss: 1.0119 - accuracy: 0.5588 - val_loss: 0.7466 - val_accuracy: 0.7503\n",
      "Epoch 187/1000\n",
      "19/21 [==========================>...] - ETA: 0s - loss: 1.0023 - accuracy: 0.5547\n",
      "Epoch 187: saving model to model/keypoint_classifier\\keypoint_classifier.hdf5\n",
      "21/21 [==============================] - 0s 9ms/step - loss: 1.0060 - accuracy: 0.5558 - val_loss: 0.7425 - val_accuracy: 0.7469\n",
      "Epoch 188/1000\n",
      "19/21 [==========================>...] - ETA: 0s - loss: 0.9986 - accuracy: 0.5621\n",
      "Epoch 188: saving model to model/keypoint_classifier\\keypoint_classifier.hdf5\n",
      "21/21 [==============================] - 0s 9ms/step - loss: 0.9973 - accuracy: 0.5621 - val_loss: 0.7418 - val_accuracy: 0.7603\n",
      "Epoch 189/1000\n",
      " 1/21 [>.............................] - ETA: 0s - loss: 0.9714 - accuracy: 0.5703\n",
      "Epoch 189: saving model to model/keypoint_classifier\\keypoint_classifier.hdf5\n",
      "21/21 [==============================] - 0s 5ms/step - loss: 1.0024 - accuracy: 0.5685 - val_loss: 0.7398 - val_accuracy: 0.7581\n",
      "Epoch 190/1000\n",
      " 1/21 [>.............................] - ETA: 0s - loss: 1.0099 - accuracy: 0.5781\n",
      "Epoch 190: saving model to model/keypoint_classifier\\keypoint_classifier.hdf5\n",
      "21/21 [==============================] - 0s 5ms/step - loss: 1.0079 - accuracy: 0.5562 - val_loss: 0.7429 - val_accuracy: 0.7715\n",
      "Epoch 191/1000\n",
      " 1/21 [>.............................] - ETA: 0s - loss: 0.9677 - accuracy: 0.5312\n",
      "Epoch 191: saving model to model/keypoint_classifier\\keypoint_classifier.hdf5\n",
      "21/21 [==============================] - 0s 5ms/step - loss: 0.9977 - accuracy: 0.5614 - val_loss: 0.7390 - val_accuracy: 0.7748\n",
      "Epoch 192/1000\n",
      " 1/21 [>.............................] - ETA: 0s - loss: 0.8863 - accuracy: 0.5781\n",
      "Epoch 192: saving model to model/keypoint_classifier\\keypoint_classifier.hdf5\n",
      "21/21 [==============================] - 0s 5ms/step - loss: 1.0038 - accuracy: 0.5573 - val_loss: 0.7473 - val_accuracy: 0.7547\n",
      "Epoch 193/1000\n",
      " 1/21 [>.............................] - ETA: 0s - loss: 0.9249 - accuracy: 0.6094\n",
      "Epoch 193: saving model to model/keypoint_classifier\\keypoint_classifier.hdf5\n",
      "21/21 [==============================] - 0s 5ms/step - loss: 1.0016 - accuracy: 0.5618 - val_loss: 0.7360 - val_accuracy: 0.7759\n",
      "Epoch 194/1000\n",
      " 1/21 [>.............................] - ETA: 0s - loss: 0.9235 - accuracy: 0.6016\n",
      "Epoch 194: saving model to model/keypoint_classifier\\keypoint_classifier.hdf5\n",
      "21/21 [==============================] - 0s 5ms/step - loss: 0.9847 - accuracy: 0.5685 - val_loss: 0.7313 - val_accuracy: 0.7703\n",
      "Epoch 195/1000\n",
      " 1/21 [>.............................] - ETA: 0s - loss: 0.9425 - accuracy: 0.5703\n",
      "Epoch 195: saving model to model/keypoint_classifier\\keypoint_classifier.hdf5\n",
      "21/21 [==============================] - 0s 6ms/step - loss: 0.9967 - accuracy: 0.5696 - val_loss: 0.7369 - val_accuracy: 0.7547\n",
      "Epoch 196/1000\n",
      " 1/21 [>.............................] - ETA: 0s - loss: 0.9757 - accuracy: 0.5078\n",
      "Epoch 196: saving model to model/keypoint_classifier\\keypoint_classifier.hdf5\n",
      "21/21 [==============================] - 0s 6ms/step - loss: 1.0130 - accuracy: 0.5506 - val_loss: 0.7427 - val_accuracy: 0.7536\n",
      "Epoch 197/1000\n",
      "18/21 [========================>.....] - ETA: 0s - loss: 1.0072 - accuracy: 0.5473\n",
      "Epoch 197: saving model to model/keypoint_classifier\\keypoint_classifier.hdf5\n",
      "21/21 [==============================] - 0s 8ms/step - loss: 1.0045 - accuracy: 0.5450 - val_loss: 0.7469 - val_accuracy: 0.7559\n",
      "Epoch 198/1000\n",
      " 1/21 [>.............................] - ETA: 0s - loss: 0.9379 - accuracy: 0.5469\n",
      "Epoch 198: saving model to model/keypoint_classifier\\keypoint_classifier.hdf5\n",
      "21/21 [==============================] - 0s 4ms/step - loss: 0.9798 - accuracy: 0.5588 - val_loss: 0.7442 - val_accuracy: 0.7514\n",
      "Epoch 199/1000\n",
      " 1/21 [>.............................] - ETA: 0s - loss: 1.0483 - accuracy: 0.4609\n",
      "Epoch 199: saving model to model/keypoint_classifier\\keypoint_classifier.hdf5\n",
      "21/21 [==============================] - 0s 4ms/step - loss: 0.9890 - accuracy: 0.5569 - val_loss: 0.7364 - val_accuracy: 0.7703\n",
      "Epoch 200/1000\n",
      " 1/21 [>.............................] - ETA: 0s - loss: 0.9375 - accuracy: 0.6094\n",
      "Epoch 200: saving model to model/keypoint_classifier\\keypoint_classifier.hdf5\n",
      "21/21 [==============================] - 0s 5ms/step - loss: 0.9637 - accuracy: 0.5818 - val_loss: 0.7350 - val_accuracy: 0.7692\n",
      "Epoch 201/1000\n",
      " 1/21 [>.............................] - ETA: 0s - loss: 0.9927 - accuracy: 0.5391\n",
      "Epoch 201: saving model to model/keypoint_classifier\\keypoint_classifier.hdf5\n",
      "21/21 [==============================] - 0s 5ms/step - loss: 0.9966 - accuracy: 0.5539 - val_loss: 0.7386 - val_accuracy: 0.7559\n",
      "Epoch 202/1000\n",
      " 1/21 [>.............................] - ETA: 0s - loss: 1.0663 - accuracy: 0.4531\n",
      "Epoch 202: saving model to model/keypoint_classifier\\keypoint_classifier.hdf5\n",
      "21/21 [==============================] - 0s 6ms/step - loss: 0.9770 - accuracy: 0.5740 - val_loss: 0.7372 - val_accuracy: 0.7681\n",
      "Epoch 203/1000\n",
      " 1/21 [>.............................] - ETA: 0s - loss: 1.0802 - accuracy: 0.4766\n",
      "Epoch 203: saving model to model/keypoint_classifier\\keypoint_classifier.hdf5\n",
      "21/21 [==============================] - 0s 6ms/step - loss: 0.9892 - accuracy: 0.5536 - val_loss: 0.7346 - val_accuracy: 0.7703\n",
      "Epoch 204/1000\n",
      " 1/21 [>.............................] - ETA: 0s - loss: 1.0333 - accuracy: 0.5000\n",
      "Epoch 204: saving model to model/keypoint_classifier\\keypoint_classifier.hdf5\n",
      "21/21 [==============================] - 0s 6ms/step - loss: 1.0053 - accuracy: 0.5603 - val_loss: 0.7419 - val_accuracy: 0.7492\n",
      "Epoch 205/1000\n",
      " 1/21 [>.............................] - ETA: 0s - loss: 1.0719 - accuracy: 0.5547\n",
      "Epoch 205: saving model to model/keypoint_classifier\\keypoint_classifier.hdf5\n",
      "21/21 [==============================] - 0s 6ms/step - loss: 1.0239 - accuracy: 0.5536 - val_loss: 0.7352 - val_accuracy: 0.7670\n",
      "Epoch 206/1000\n",
      "17/21 [=======================>......] - ETA: 0s - loss: 1.0076 - accuracy: 0.5616\n",
      "Epoch 206: saving model to model/keypoint_classifier\\keypoint_classifier.hdf5\n",
      "21/21 [==============================] - 0s 7ms/step - loss: 0.9969 - accuracy: 0.5640 - val_loss: 0.7422 - val_accuracy: 0.7659\n",
      "Epoch 207/1000\n",
      " 1/21 [>.............................] - ETA: 0s - loss: 1.1674 - accuracy: 0.3984\n",
      "Epoch 207: saving model to model/keypoint_classifier\\keypoint_classifier.hdf5\n",
      "21/21 [==============================] - 0s 5ms/step - loss: 1.0023 - accuracy: 0.5499 - val_loss: 0.7425 - val_accuracy: 0.7670\n",
      "Epoch 208/1000\n",
      " 1/21 [>.............................] - ETA: 0s - loss: 0.9130 - accuracy: 0.5703\n",
      "Epoch 208: saving model to model/keypoint_classifier\\keypoint_classifier.hdf5\n",
      "21/21 [==============================] - 0s 6ms/step - loss: 1.0082 - accuracy: 0.5707 - val_loss: 0.7397 - val_accuracy: 0.7547\n",
      "Epoch 209/1000\n",
      "16/21 [=====================>........] - ETA: 0s - loss: 1.0017 - accuracy: 0.5522\n",
      "Epoch 209: saving model to model/keypoint_classifier\\keypoint_classifier.hdf5\n",
      "21/21 [==============================] - 0s 9ms/step - loss: 0.9924 - accuracy: 0.5599 - val_loss: 0.7297 - val_accuracy: 0.7715\n",
      "Epoch 210/1000\n",
      " 1/21 [>.............................] - ETA: 0s - loss: 0.9461 - accuracy: 0.5859\n",
      "Epoch 210: saving model to model/keypoint_classifier\\keypoint_classifier.hdf5\n",
      "21/21 [==============================] - 0s 6ms/step - loss: 0.9684 - accuracy: 0.5677 - val_loss: 0.7272 - val_accuracy: 0.7748\n",
      "Epoch 211/1000\n",
      " 1/21 [>.............................] - ETA: 0s - loss: 1.1873 - accuracy: 0.4844\n",
      "Epoch 211: saving model to model/keypoint_classifier\\keypoint_classifier.hdf5\n",
      "21/21 [==============================] - 0s 5ms/step - loss: 0.9919 - accuracy: 0.5565 - val_loss: 0.7370 - val_accuracy: 0.7715\n",
      "Epoch 212/1000\n",
      " 1/21 [>.............................] - ETA: 0s - loss: 1.0723 - accuracy: 0.4844\n",
      "Epoch 212: saving model to model/keypoint_classifier\\keypoint_classifier.hdf5\n",
      "21/21 [==============================] - 0s 6ms/step - loss: 0.9979 - accuracy: 0.5737 - val_loss: 0.7310 - val_accuracy: 0.7726\n",
      "Epoch 213/1000\n",
      " 1/21 [>.............................] - ETA: 0s - loss: 0.9933 - accuracy: 0.5547\n",
      "Epoch 213: saving model to model/keypoint_classifier\\keypoint_classifier.hdf5\n",
      "21/21 [==============================] - 0s 5ms/step - loss: 0.9933 - accuracy: 0.5662 - val_loss: 0.7241 - val_accuracy: 0.7871\n",
      "Epoch 214/1000\n",
      " 1/21 [>.............................] - ETA: 0s - loss: 1.0251 - accuracy: 0.5703\n",
      "Epoch 214: saving model to model/keypoint_classifier\\keypoint_classifier.hdf5\n",
      "21/21 [==============================] - 0s 5ms/step - loss: 0.9763 - accuracy: 0.5703 - val_loss: 0.7183 - val_accuracy: 0.7670\n",
      "Epoch 215/1000\n",
      " 1/21 [>.............................] - ETA: 0s - loss: 1.0358 - accuracy: 0.5547\n",
      "Epoch 215: saving model to model/keypoint_classifier\\keypoint_classifier.hdf5\n",
      "21/21 [==============================] - 0s 6ms/step - loss: 0.9890 - accuracy: 0.5681 - val_loss: 0.7304 - val_accuracy: 0.7748\n",
      "Epoch 216/1000\n",
      " 1/21 [>.............................] - ETA: 0s - loss: 1.0759 - accuracy: 0.5078\n",
      "Epoch 216: saving model to model/keypoint_classifier\\keypoint_classifier.hdf5\n",
      "21/21 [==============================] - 0s 5ms/step - loss: 1.0004 - accuracy: 0.5614 - val_loss: 0.7323 - val_accuracy: 0.7715\n",
      "Epoch 217/1000\n",
      " 1/21 [>.............................] - ETA: 0s - loss: 1.0824 - accuracy: 0.5391\n",
      "Epoch 217: saving model to model/keypoint_classifier\\keypoint_classifier.hdf5\n",
      "21/21 [==============================] - 0s 5ms/step - loss: 0.9898 - accuracy: 0.5658 - val_loss: 0.7374 - val_accuracy: 0.7492\n",
      "Epoch 218/1000\n",
      " 1/21 [>.............................] - ETA: 0s - loss: 0.9434 - accuracy: 0.5391\n",
      "Epoch 218: saving model to model/keypoint_classifier\\keypoint_classifier.hdf5\n",
      "21/21 [==============================] - 0s 5ms/step - loss: 0.9759 - accuracy: 0.5696 - val_loss: 0.7308 - val_accuracy: 0.7581\n",
      "Epoch 219/1000\n",
      " 1/21 [>.............................] - ETA: 0s - loss: 0.9892 - accuracy: 0.5391\n",
      "Epoch 219: saving model to model/keypoint_classifier\\keypoint_classifier.hdf5\n",
      "21/21 [==============================] - 0s 5ms/step - loss: 0.9897 - accuracy: 0.5525 - val_loss: 0.7245 - val_accuracy: 0.7659\n",
      "Epoch 220/1000\n",
      " 1/21 [>.............................] - ETA: 0s - loss: 1.0035 - accuracy: 0.5078\n",
      "Epoch 220: saving model to model/keypoint_classifier\\keypoint_classifier.hdf5\n",
      "21/21 [==============================] - 0s 5ms/step - loss: 1.0024 - accuracy: 0.5562 - val_loss: 0.7254 - val_accuracy: 0.7759\n",
      "Epoch 221/1000\n",
      " 1/21 [>.............................] - ETA: 0s - loss: 0.9942 - accuracy: 0.6094\n",
      "Epoch 221: saving model to model/keypoint_classifier\\keypoint_classifier.hdf5\n",
      "21/21 [==============================] - 0s 5ms/step - loss: 0.9802 - accuracy: 0.5818 - val_loss: 0.7208 - val_accuracy: 0.7659\n",
      "Epoch 222/1000\n",
      " 1/21 [>.............................] - ETA: 0s - loss: 0.9929 - accuracy: 0.5781\n",
      "Epoch 222: saving model to model/keypoint_classifier\\keypoint_classifier.hdf5\n",
      "21/21 [==============================] - 0s 5ms/step - loss: 0.9919 - accuracy: 0.5681 - val_loss: 0.7313 - val_accuracy: 0.7592\n",
      "Epoch 223/1000\n",
      " 1/21 [>.............................] - ETA: 0s - loss: 1.0013 - accuracy: 0.5391\n",
      "Epoch 223: saving model to model/keypoint_classifier\\keypoint_classifier.hdf5\n",
      "21/21 [==============================] - 0s 4ms/step - loss: 0.9868 - accuracy: 0.5625 - val_loss: 0.7237 - val_accuracy: 0.7848\n",
      "Epoch 224/1000\n",
      " 1/21 [>.............................] - ETA: 0s - loss: 1.0064 - accuracy: 0.5703\n",
      "Epoch 224: saving model to model/keypoint_classifier\\keypoint_classifier.hdf5\n",
      "21/21 [==============================] - 0s 5ms/step - loss: 0.9926 - accuracy: 0.5565 - val_loss: 0.7284 - val_accuracy: 0.7648\n",
      "Epoch 225/1000\n",
      " 1/21 [>.............................] - ETA: 0s - loss: 0.9248 - accuracy: 0.5859\n",
      "Epoch 225: saving model to model/keypoint_classifier\\keypoint_classifier.hdf5\n",
      "21/21 [==============================] - 0s 6ms/step - loss: 0.9904 - accuracy: 0.5770 - val_loss: 0.7320 - val_accuracy: 0.7603\n",
      "Epoch 226/1000\n",
      "21/21 [==============================] - ETA: 0s - loss: 0.9806 - accuracy: 0.5603\n",
      "Epoch 226: saving model to model/keypoint_classifier\\keypoint_classifier.hdf5\n",
      "21/21 [==============================] - 0s 5ms/step - loss: 0.9806 - accuracy: 0.5603 - val_loss: 0.7255 - val_accuracy: 0.7547\n",
      "Epoch 227/1000\n",
      " 1/21 [>.............................] - ETA: 0s - loss: 1.0234 - accuracy: 0.5547\n",
      "Epoch 227: saving model to model/keypoint_classifier\\keypoint_classifier.hdf5\n",
      "21/21 [==============================] - 0s 5ms/step - loss: 1.0091 - accuracy: 0.5629 - val_loss: 0.7279 - val_accuracy: 0.7681\n",
      "Epoch 228/1000\n",
      " 1/21 [>.............................] - ETA: 0s - loss: 0.9067 - accuracy: 0.6172\n",
      "Epoch 228: saving model to model/keypoint_classifier\\keypoint_classifier.hdf5\n",
      "21/21 [==============================] - 0s 5ms/step - loss: 0.9760 - accuracy: 0.5804 - val_loss: 0.7282 - val_accuracy: 0.7670\n",
      "Epoch 229/1000\n",
      " 1/21 [>.............................] - ETA: 0s - loss: 0.9528 - accuracy: 0.6406\n",
      "Epoch 229: saving model to model/keypoint_classifier\\keypoint_classifier.hdf5\n",
      "21/21 [==============================] - 0s 6ms/step - loss: 0.9766 - accuracy: 0.5725 - val_loss: 0.7248 - val_accuracy: 0.7648\n",
      "Epoch 230/1000\n",
      " 1/21 [>.............................] - ETA: 0s - loss: 1.0742 - accuracy: 0.5312\n",
      "Epoch 230: saving model to model/keypoint_classifier\\keypoint_classifier.hdf5\n",
      "21/21 [==============================] - 0s 5ms/step - loss: 0.9706 - accuracy: 0.5625 - val_loss: 0.7231 - val_accuracy: 0.7726\n",
      "Epoch 231/1000\n",
      " 1/21 [>.............................] - ETA: 0s - loss: 1.0672 - accuracy: 0.5547\n",
      "Epoch 231: saving model to model/keypoint_classifier\\keypoint_classifier.hdf5\n",
      "21/21 [==============================] - 0s 5ms/step - loss: 0.9905 - accuracy: 0.5681 - val_loss: 0.7297 - val_accuracy: 0.7793\n",
      "Epoch 232/1000\n",
      " 1/21 [>.............................] - ETA: 0s - loss: 0.8799 - accuracy: 0.5938\n",
      "Epoch 232: saving model to model/keypoint_classifier\\keypoint_classifier.hdf5\n",
      "21/21 [==============================] - 0s 5ms/step - loss: 0.9927 - accuracy: 0.5629 - val_loss: 0.7247 - val_accuracy: 0.7703\n",
      "Epoch 233/1000\n",
      " 1/21 [>.............................] - ETA: 0s - loss: 1.0876 - accuracy: 0.5312\n",
      "Epoch 233: saving model to model/keypoint_classifier\\keypoint_classifier.hdf5\n",
      "21/21 [==============================] - 0s 4ms/step - loss: 0.9911 - accuracy: 0.5681 - val_loss: 0.7192 - val_accuracy: 0.7837\n",
      "Epoch 234/1000\n",
      " 1/21 [>.............................] - ETA: 0s - loss: 0.8429 - accuracy: 0.5859\n",
      "Epoch 234: saving model to model/keypoint_classifier\\keypoint_classifier.hdf5\n",
      "21/21 [==============================] - 0s 5ms/step - loss: 0.9558 - accuracy: 0.5811 - val_loss: 0.7218 - val_accuracy: 0.7681\n",
      "Epoch 234: early stopping\n"
     ]
    },
    {
     "data": {
      "text/plain": "<keras.src.callbacks.History at 0x1ac62242e30>"
     },
     "execution_count": 11,
     "metadata": {},
     "output_type": "execute_result"
    }
   ]
  },
  {
   "cell_type": "code",
   "metadata": {
    "id": "pxvb2Y299hE3",
    "colab": {
     "base_uri": "https://localhost:8080/"
    },
    "outputId": "59eb3185-2e37-4b9e-bc9d-ab1b8ac29b7f",
    "ExecuteTime": {
     "end_time": "2024-05-12T17:48:08.673631300Z",
     "start_time": "2024-05-12T17:48:08.517431100Z"
    }
   },
   "source": [
    "# Model evaluation\n",
    "val_loss, val_acc = model.evaluate(X_test, y_test, batch_size=128)"
   ],
   "execution_count": 12,
   "outputs": [
    {
     "name": "stdout",
     "output_type": "stream",
     "text": [
      "8/8 [==============================] - 0s 4ms/step - loss: 0.7218 - accuracy: 0.7681\n"
     ]
    }
   ]
  },
  {
   "cell_type": "code",
   "metadata": {
    "id": "RBkmDeUW9hE4",
    "ExecuteTime": {
     "end_time": "2024-05-12T17:48:08.752155900Z",
     "start_time": "2024-05-12T17:48:08.642958500Z"
    }
   },
   "source": [
    "# Loading the saved model\n",
    "model = tf.keras.models.load_model(model_save_path)"
   ],
   "execution_count": 13,
   "outputs": []
  },
  {
   "cell_type": "code",
   "metadata": {
    "id": "tFz9Tb0I9hE4",
    "colab": {
     "base_uri": "https://localhost:8080/"
    },
    "outputId": "1c3b3528-54ae-4ee2-ab04-77429211cbef",
    "ExecuteTime": {
     "end_time": "2024-05-12T17:48:08.910335600Z",
     "start_time": "2024-05-12T17:48:08.752155900Z"
    }
   },
   "source": [
    "# Inference test\n",
    "predict_result = model.predict(np.array([X_test[0]]))\n",
    "print(np.squeeze(predict_result))\n",
    "print(np.argmax(np.squeeze(predict_result)))"
   ],
   "execution_count": 14,
   "outputs": [
    {
     "name": "stdout",
     "output_type": "stream",
     "text": [
      "1/1 [==============================] - 0s 81ms/step\n",
      "[0.00132951 0.3496771  0.0224562  0.13958187 0.20367245 0.2832828 ]\n",
      "1\n"
     ]
    }
   ]
  },
  {
   "cell_type": "markdown",
   "metadata": {
    "id": "S3U4yNWx9hE4"
   },
   "source": [
    "# Confusion matrix"
   ]
  },
  {
   "cell_type": "code",
   "metadata": {
    "id": "AP1V6SCk9hE5",
    "colab": {
     "base_uri": "https://localhost:8080/",
     "height": 582
    },
    "outputId": "08e41a80-7a4a-4619-8125-ecc371368d19",
    "ExecuteTime": {
     "end_time": "2024-05-12T17:48:09.442165700Z",
     "start_time": "2024-05-12T17:48:08.910335600Z"
    }
   },
   "source": [
    "import pandas as pd\n",
    "import seaborn as sns\n",
    "import matplotlib.pyplot as plt\n",
    "from sklearn.metrics import confusion_matrix, classification_report\n",
    "\n",
    "def print_confusion_matrix(y_true, y_pred, report=True):\n",
    "    labels = sorted(list(set(y_true)))\n",
    "    cmx_data = confusion_matrix(y_true, y_pred, labels=labels)\n",
    "    \n",
    "    df_cmx = pd.DataFrame(cmx_data, index=labels, columns=labels)\n",
    " \n",
    "    fig, ax = plt.subplots(figsize=(7, 6))\n",
    "    sns.heatmap(df_cmx, annot=True, fmt='g' ,square=False)\n",
    "    ax.set_ylim(len(set(y_true)), 0)\n",
    "    plt.show()\n",
    "    \n",
    "    if report:\n",
    "        print('Classification Report')\n",
    "        print(classification_report(y_test, y_pred))\n",
    "\n",
    "Y_pred = model.predict(X_test)\n",
    "y_pred = np.argmax(Y_pred, axis=1)\n",
    "\n",
    "print_confusion_matrix(y_test, y_pred)"
   ],
   "execution_count": 15,
   "outputs": [
    {
     "name": "stdout",
     "output_type": "stream",
     "text": [
      "29/29 [==============================] - 0s 1ms/step\n"
     ]
    },
    {
     "data": {
      "text/plain": "<Figure size 700x600 with 2 Axes>",
      "image/png": "[encoded data removed]"
     },
     "metadata": {},
     "output_type": "display_data"
    },
    {
     "name": "stdout",
     "output_type": "stream",
     "text": [
      "Classification Report\n",
      "              precision    recall  f1-score   support\n",
      "\n",
      "           0       0.99      0.87      0.92        89\n",
      "           1       0.74      0.99      0.85       143\n",
      "           2       0.62      0.74      0.68       146\n",
      "           3       0.85      0.59      0.69       186\n",
      "           4       0.71      0.86      0.78       181\n",
      "           5       0.94      0.64      0.76       152\n",
      "\n",
      "    accuracy                           0.77       897\n",
      "   macro avg       0.81      0.78      0.78       897\n",
      "weighted avg       0.79      0.77      0.77       897\n",
      "\n"
     ]
    }
   ]
  },
  {
   "cell_type": "markdown",
   "metadata": {
    "id": "FNP6aqzc9hE5"
   },
   "source": [
    "# Convert to model for Tensorflow-Lite"
   ]
  },
  {
   "cell_type": "code",
   "metadata": {
    "id": "ODjnYyld9hE6",
    "ExecuteTime": {
     "end_time": "2024-05-12T17:48:09.567528200Z",
     "start_time": "2024-05-12T17:48:09.442165700Z"
    }
   },
   "source": [
    "# Save as a model dedicated to inference\n",
    "model.save(model_save_path, include_optimizer=False)"
   ],
   "execution_count": 16,
   "outputs": [
    {
     "name": "stderr",
     "output_type": "stream",
     "text": [
      "C:\\Users\\antoi\\AppData\\Local\\Programs\\Python\\Python310\\lib\\site-packages\\keras\\src\\engine\\training.py:3103: UserWarning: You are saving your model as an HDF5 file via `model.save()`. This file format is considered legacy. We recommend using instead the native Keras format, e.g. `model.save('my_model.keras')`.\n",
      "  saving_api.save_model(\n"
     ]
    }
   ]
  },
  {
   "cell_type": "code",
   "metadata": {
    "id": "zRfuK8Y59hE6",
    "colab": {
     "base_uri": "https://localhost:8080/"
    },
    "outputId": "a4ca585c-b5d5-4244-8291-8674063209bb",
    "ExecuteTime": {
     "end_time": "2024-05-12T17:48:10.947434600Z",
     "start_time": "2024-05-12T17:48:09.473610800Z"
    }
   },
   "source": [
    "# Transform model (quantization)\n",
    "\n",
    "converter = tf.lite.TFLiteConverter.from_keras_model(model)\n",
    "converter.optimizations = [tf.lite.Optimize.DEFAULT]\n",
    "tflite_quantized_model = converter.convert()\n",
    "\n",
    "open(tflite_save_path, 'wb').write(tflite_quantized_model)"
   ],
   "execution_count": 17,
   "outputs": [
    {
     "name": "stdout",
     "output_type": "stream",
     "text": [
      "INFO:tensorflow:Assets written to: C:\\Users\\antoi\\AppData\\Local\\Temp\\tmphzen1ste\\assets\n"
     ]
    },
    {
     "name": "stderr",
     "output_type": "stream",
     "text": [
      "INFO:tensorflow:Assets written to: C:\\Users\\antoi\\AppData\\Local\\Temp\\tmphzen1ste\\assets\n"
     ]
    },
    {
     "data": {
      "text/plain": "6632"
     },
     "execution_count": 17,
     "metadata": {},
     "output_type": "execute_result"
    }
   ]
  },
  {
   "cell_type": "markdown",
   "metadata": {
    "id": "CHBPBXdx9hE6"
   },
   "source": [
    "# Inference test"
   ]
  },
  {
   "cell_type": "code",
   "metadata": {
    "id": "mGAzLocO9hE7",
    "ExecuteTime": {
     "end_time": "2024-05-12T17:48:10.994172500Z",
     "start_time": "2024-05-12T17:48:10.947434600Z"
    }
   },
   "source": [
    "interpreter = tf.lite.Interpreter(model_path=tflite_save_path)\n",
    "interpreter.allocate_tensors()"
   ],
   "execution_count": 18,
   "outputs": []
  },
  {
   "cell_type": "code",
   "metadata": {
    "id": "oQuDK8YS9hE7",
    "ExecuteTime": {
     "end_time": "2024-05-12T17:48:11.009810700Z",
     "start_time": "2024-05-12T17:48:10.962561700Z"
    }
   },
   "source": [
    "# Get I / O tensor\n",
    "input_details = interpreter.get_input_details()\n",
    "output_details = interpreter.get_output_details()"
   ],
   "execution_count": 19,
   "outputs": []
  },
  {
   "cell_type": "code",
   "metadata": {
    "id": "2_ixAf_l9hE7",
    "ExecuteTime": {
     "end_time": "2024-05-12T17:48:11.009810700Z",
     "start_time": "2024-05-12T17:48:10.994172500Z"
    }
   },
   "source": [
    "interpreter.set_tensor(input_details[0]['index'], np.array([X_test[0]]))"
   ],
   "execution_count": 20,
   "outputs": []
  },
  {
   "cell_type": "code",
   "metadata": {
    "scrolled": true,
    "id": "s4FoAnuc9hE7",
    "colab": {
     "base_uri": "https://localhost:8080/"
    },
    "outputId": "91f18257-8d8b-4ef3-c558-e9b5f94fabbf",
    "ExecuteTime": {
     "end_time": "2024-05-12T17:48:11.009810700Z",
     "start_time": "2024-05-12T17:48:10.994172500Z"
    }
   },
   "source": [
    "%%time\n",
    "# Inference implementation\n",
    "interpreter.invoke()\n",
    "tflite_results = interpreter.get_tensor(output_details[0]['index'])"
   ],
   "execution_count": 21,
   "outputs": [
    {
     "name": "stdout",
     "output_type": "stream",
     "text": [
      "CPU times: total: 0 ns\n",
      "Wall time: 0 ns\n"
     ]
    }
   ]
  },
  {
   "cell_type": "code",
   "metadata": {
    "id": "vONjp19J9hE8",
    "colab": {
     "base_uri": "https://localhost:8080/"
    },
    "outputId": "77205e24-fd00-42c4-f7b6-e06e527c2cba",
    "ExecuteTime": {
     "end_time": "2024-05-12T17:48:11.087957500Z",
     "start_time": "2024-05-12T17:48:11.009810700Z"
    }
   },
   "source": [
    "print(np.squeeze(tflite_results))\n",
    "print(np.argmax(np.squeeze(tflite_results)))"
   ],
   "execution_count": 22,
   "outputs": [
    {
     "name": "stdout",
     "output_type": "stream",
     "text": [
      "[0.00132951 0.34967718 0.0224562  0.13958184 0.20367248 0.28328282]\n",
      "1\n"
     ]
    }
   ]
  },
  {
   "cell_type": "code",
   "execution_count": 22,
   "outputs": [],
   "source": [],
   "metadata": {
    "collapsed": false,
    "ExecuteTime": {
     "end_time": "2024-05-12T17:48:11.087957500Z",
     "start_time": "2024-05-12T17:48:11.025558400Z"
    }
   }
  }
 ]
}
